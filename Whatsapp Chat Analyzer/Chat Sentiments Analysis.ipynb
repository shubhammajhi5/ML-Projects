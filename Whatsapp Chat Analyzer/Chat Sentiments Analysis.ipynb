{
 "cells": [
  {
   "cell_type": "code",
   "execution_count": 1,
   "id": "5e4c063d",
   "metadata": {},
   "outputs": [],
   "source": [
    "import re\n",
    "import pandas as pd\n",
    "import numpy as np\n",
    "import emoji\n",
    "from collections import Counter\n",
    "import matplotlib.pyplot as plt\n",
    "from PIL import Image\n",
    "from wordcloud import WordCloud, STOPWORDS, ImageColorGenerator"
   ]
  },
  {
   "cell_type": "code",
   "execution_count": 2,
   "id": "558b70c6",
   "metadata": {},
   "outputs": [],
   "source": [
    "f = open('chat.txt', 'r', encoding = 'utf-8')"
   ]
  },
  {
   "cell_type": "code",
   "execution_count": 3,
   "id": "d359fa1b",
   "metadata": {},
   "outputs": [],
   "source": [
    "data = f.read()"
   ]
  },
  {
   "cell_type": "code",
   "execution_count": 4,
   "id": "300f8e48",
   "metadata": {},
   "outputs": [],
   "source": [
    "# print(data)"
   ]
  },
  {
   "cell_type": "code",
   "execution_count": 5,
   "id": "7bcf155c",
   "metadata": {},
   "outputs": [],
   "source": [
    "pattern = '\\d{1,2}/\\d{1,2}/\\d{1,4},\\s\\d{1,2}:\\d{1,2}\\s[AaPp][Mm]\\s-\\s'"
   ]
  },
  {
   "cell_type": "code",
   "execution_count": 6,
   "id": "cac25582",
   "metadata": {},
   "outputs": [],
   "source": [
    "messages = re.split(pattern, data)[1:]\n",
    "# messages"
   ]
  },
  {
   "cell_type": "code",
   "execution_count": 7,
   "id": "9a853291",
   "metadata": {},
   "outputs": [],
   "source": [
    "dates = re.findall(pattern, data)\n",
    "# dates"
   ]
  },
  {
   "cell_type": "code",
   "execution_count": 8,
   "id": "c745fffe",
   "metadata": {},
   "outputs": [
    {
     "name": "stdout",
     "output_type": "stream",
     "text": [
      "messages 3019\n",
      "dates 3019\n"
     ]
    }
   ],
   "source": [
    "print('messages', len(messages))\n",
    "print('dates', len(dates))"
   ]
  },
  {
   "cell_type": "code",
   "execution_count": 9,
   "id": "d8579ec4",
   "metadata": {},
   "outputs": [
    {
     "data": {
      "text/html": [
       "<div>\n",
       "<style scoped>\n",
       "    .dataframe tbody tr th:only-of-type {\n",
       "        vertical-align: middle;\n",
       "    }\n",
       "\n",
       "    .dataframe tbody tr th {\n",
       "        vertical-align: top;\n",
       "    }\n",
       "\n",
       "    .dataframe thead th {\n",
       "        text-align: right;\n",
       "    }\n",
       "</style>\n",
       "<table border=\"1\" class=\"dataframe\">\n",
       "  <thead>\n",
       "    <tr style=\"text-align: right;\">\n",
       "      <th></th>\n",
       "      <th>user_message</th>\n",
       "      <th>date</th>\n",
       "    </tr>\n",
       "  </thead>\n",
       "  <tbody>\n",
       "    <tr>\n",
       "      <th>0</th>\n",
       "      <td>Messages and calls are end-to-end encrypted. N...</td>\n",
       "      <td>12/19/21, 11:09 PM -</td>\n",
       "    </tr>\n",
       "    <tr>\n",
       "      <th>1</th>\n",
       "      <td>Ankita: Kidhr h tu\\n</td>\n",
       "      <td>12/19/21, 11:09 PM -</td>\n",
       "    </tr>\n",
       "    <tr>\n",
       "      <th>2</th>\n",
       "      <td>Shubham😎: 🚂\\n</td>\n",
       "      <td>12/20/21, 12:18 AM -</td>\n",
       "    </tr>\n",
       "    <tr>\n",
       "      <th>3</th>\n",
       "      <td>Ankita: Train m\\n</td>\n",
       "      <td>12/20/21, 12:18 AM -</td>\n",
       "    </tr>\n",
       "    <tr>\n",
       "      <th>4</th>\n",
       "      <td>Ankita: 🤗\\n</td>\n",
       "      <td>12/20/21, 12:18 AM -</td>\n",
       "    </tr>\n",
       "  </tbody>\n",
       "</table>\n",
       "</div>"
      ],
      "text/plain": [
       "                                        user_message                   date\n",
       "0  Messages and calls are end-to-end encrypted. N...  12/19/21, 11:09 PM - \n",
       "1                               Ankita: Kidhr h tu\\n  12/19/21, 11:09 PM - \n",
       "2                                      Shubham😎: 🚂\\n  12/20/21, 12:18 AM - \n",
       "3                                  Ankita: Train m\\n  12/20/21, 12:18 AM - \n",
       "4                                        Ankita: 🤗\\n  12/20/21, 12:18 AM - "
      ]
     },
     "execution_count": 9,
     "metadata": {},
     "output_type": "execute_result"
    }
   ],
   "source": [
    "df = pd.DataFrame({'user_message' : messages, 'date' : dates})\n",
    "\n",
    "df.head()"
   ]
  },
  {
   "cell_type": "code",
   "execution_count": 10,
   "id": "7cbe01b0",
   "metadata": {},
   "outputs": [
    {
     "data": {
      "text/html": [
       "<div>\n",
       "<style scoped>\n",
       "    .dataframe tbody tr th:only-of-type {\n",
       "        vertical-align: middle;\n",
       "    }\n",
       "\n",
       "    .dataframe tbody tr th {\n",
       "        vertical-align: top;\n",
       "    }\n",
       "\n",
       "    .dataframe thead th {\n",
       "        text-align: right;\n",
       "    }\n",
       "</style>\n",
       "<table border=\"1\" class=\"dataframe\">\n",
       "  <thead>\n",
       "    <tr style=\"text-align: right;\">\n",
       "      <th></th>\n",
       "      <th>user_message</th>\n",
       "      <th>date</th>\n",
       "    </tr>\n",
       "  </thead>\n",
       "  <tbody>\n",
       "    <tr>\n",
       "      <th>0</th>\n",
       "      <td>Messages and calls are end-to-end encrypted. N...</td>\n",
       "      <td>2021-12-19 23:09:00</td>\n",
       "    </tr>\n",
       "    <tr>\n",
       "      <th>1</th>\n",
       "      <td>Ankita: Kidhr h tu\\n</td>\n",
       "      <td>2021-12-19 23:09:00</td>\n",
       "    </tr>\n",
       "    <tr>\n",
       "      <th>2</th>\n",
       "      <td>Shubham😎: 🚂\\n</td>\n",
       "      <td>2021-12-20 00:18:00</td>\n",
       "    </tr>\n",
       "    <tr>\n",
       "      <th>3</th>\n",
       "      <td>Ankita: Train m\\n</td>\n",
       "      <td>2021-12-20 00:18:00</td>\n",
       "    </tr>\n",
       "    <tr>\n",
       "      <th>4</th>\n",
       "      <td>Ankita: 🤗\\n</td>\n",
       "      <td>2021-12-20 00:18:00</td>\n",
       "    </tr>\n",
       "  </tbody>\n",
       "</table>\n",
       "</div>"
      ],
      "text/plain": [
       "                                        user_message                date\n",
       "0  Messages and calls are end-to-end encrypted. N... 2021-12-19 23:09:00\n",
       "1                               Ankita: Kidhr h tu\\n 2021-12-19 23:09:00\n",
       "2                                      Shubham😎: 🚂\\n 2021-12-20 00:18:00\n",
       "3                                  Ankita: Train m\\n 2021-12-20 00:18:00\n",
       "4                                        Ankita: 🤗\\n 2021-12-20 00:18:00"
      ]
     },
     "execution_count": 10,
     "metadata": {},
     "output_type": "execute_result"
    }
   ],
   "source": [
    "df['date'] = pd.to_datetime(df['date'], format = '%m/%d/%y, %I:%M %p - ')\n",
    "df.head()"
   ]
  },
  {
   "cell_type": "code",
   "execution_count": 11,
   "id": "58b22e3b",
   "metadata": {},
   "outputs": [
    {
     "data": {
      "text/html": [
       "<div>\n",
       "<style scoped>\n",
       "    .dataframe tbody tr th:only-of-type {\n",
       "        vertical-align: middle;\n",
       "    }\n",
       "\n",
       "    .dataframe tbody tr th {\n",
       "        vertical-align: top;\n",
       "    }\n",
       "\n",
       "    .dataframe thead th {\n",
       "        text-align: right;\n",
       "    }\n",
       "</style>\n",
       "<table border=\"1\" class=\"dataframe\">\n",
       "  <thead>\n",
       "    <tr style=\"text-align: right;\">\n",
       "      <th></th>\n",
       "      <th>user_message</th>\n",
       "      <th>date</th>\n",
       "    </tr>\n",
       "  </thead>\n",
       "  <tbody>\n",
       "    <tr>\n",
       "      <th>0</th>\n",
       "      <td>Messages and calls are end-to-end encrypted. N...</td>\n",
       "      <td>2021-12-19 23:09:00</td>\n",
       "    </tr>\n",
       "    <tr>\n",
       "      <th>1</th>\n",
       "      <td>Ankita: Kidhr h tu</td>\n",
       "      <td>2021-12-19 23:09:00</td>\n",
       "    </tr>\n",
       "    <tr>\n",
       "      <th>2</th>\n",
       "      <td>Shubham😎: 🚂</td>\n",
       "      <td>2021-12-20 00:18:00</td>\n",
       "    </tr>\n",
       "    <tr>\n",
       "      <th>3</th>\n",
       "      <td>Ankita: Train m</td>\n",
       "      <td>2021-12-20 00:18:00</td>\n",
       "    </tr>\n",
       "    <tr>\n",
       "      <th>4</th>\n",
       "      <td>Ankita: 🤗</td>\n",
       "      <td>2021-12-20 00:18:00</td>\n",
       "    </tr>\n",
       "  </tbody>\n",
       "</table>\n",
       "</div>"
      ],
      "text/plain": [
       "                                        user_message                date\n",
       "0  Messages and calls are end-to-end encrypted. N... 2021-12-19 23:09:00\n",
       "1                                 Ankita: Kidhr h tu 2021-12-19 23:09:00\n",
       "2                                        Shubham😎: 🚂 2021-12-20 00:18:00\n",
       "3                                    Ankita: Train m 2021-12-20 00:18:00\n",
       "4                                          Ankita: 🤗 2021-12-20 00:18:00"
      ]
     },
     "execution_count": 11,
     "metadata": {},
     "output_type": "execute_result"
    }
   ],
   "source": [
    "df['user_message'] = df['user_message'].str.strip()\n",
    "df.head()"
   ]
  },
  {
   "cell_type": "code",
   "execution_count": 12,
   "id": "0f7f7557",
   "metadata": {},
   "outputs": [
    {
     "data": {
      "text/html": [
       "<div>\n",
       "<style scoped>\n",
       "    .dataframe tbody tr th:only-of-type {\n",
       "        vertical-align: middle;\n",
       "    }\n",
       "\n",
       "    .dataframe tbody tr th {\n",
       "        vertical-align: top;\n",
       "    }\n",
       "\n",
       "    .dataframe thead th {\n",
       "        text-align: right;\n",
       "    }\n",
       "</style>\n",
       "<table border=\"1\" class=\"dataframe\">\n",
       "  <thead>\n",
       "    <tr style=\"text-align: right;\">\n",
       "      <th></th>\n",
       "      <th>date</th>\n",
       "      <th>users</th>\n",
       "      <th>messages</th>\n",
       "    </tr>\n",
       "  </thead>\n",
       "  <tbody>\n",
       "    <tr>\n",
       "      <th>0</th>\n",
       "      <td>2021-12-19 23:09:00</td>\n",
       "      <td>chat_notification</td>\n",
       "      <td>Messages and calls are end-to-end encrypted. N...</td>\n",
       "    </tr>\n",
       "    <tr>\n",
       "      <th>1</th>\n",
       "      <td>2021-12-19 23:09:00</td>\n",
       "      <td>Ankita</td>\n",
       "      <td>Kidhr h tu</td>\n",
       "    </tr>\n",
       "    <tr>\n",
       "      <th>2</th>\n",
       "      <td>2021-12-20 00:18:00</td>\n",
       "      <td>Shubham😎</td>\n",
       "      <td>🚂</td>\n",
       "    </tr>\n",
       "    <tr>\n",
       "      <th>3</th>\n",
       "      <td>2021-12-20 00:18:00</td>\n",
       "      <td>Ankita</td>\n",
       "      <td>Train m</td>\n",
       "    </tr>\n",
       "    <tr>\n",
       "      <th>4</th>\n",
       "      <td>2021-12-20 00:18:00</td>\n",
       "      <td>Ankita</td>\n",
       "      <td>🤗</td>\n",
       "    </tr>\n",
       "  </tbody>\n",
       "</table>\n",
       "</div>"
      ],
      "text/plain": [
       "                 date              users  \\\n",
       "0 2021-12-19 23:09:00  chat_notification   \n",
       "1 2021-12-19 23:09:00             Ankita   \n",
       "2 2021-12-20 00:18:00           Shubham😎   \n",
       "3 2021-12-20 00:18:00             Ankita   \n",
       "4 2021-12-20 00:18:00             Ankita   \n",
       "\n",
       "                                            messages  \n",
       "0  Messages and calls are end-to-end encrypted. N...  \n",
       "1                                         Kidhr h tu  \n",
       "2                                                  🚂  \n",
       "3                                            Train m  \n",
       "4                                                  🤗  "
      ]
     },
     "execution_count": 12,
     "metadata": {},
     "output_type": "execute_result"
    }
   ],
   "source": [
    "# separate users and messages\n",
    "    \n",
    "users = []\n",
    "messages = []\n",
    "\n",
    "for message in df['user_message']:\n",
    "    entry = re.split('([\\w\\W]+?):\\s', message)\n",
    "    if entry[1:]:\n",
    "        users.append(entry[1])\n",
    "        messages.append(entry[2])\n",
    "    else:\n",
    "        users.append('chat_notification')\n",
    "        messages.append(entry[0])\n",
    "        \n",
    "\n",
    "df['users'] = users\n",
    "df['messages'] = messages\n",
    "df.drop(columns = ['user_message'], inplace = True)\n",
    "\n",
    "df.head()"
   ]
  },
  {
   "cell_type": "code",
   "execution_count": 13,
   "id": "856f0404",
   "metadata": {},
   "outputs": [
    {
     "data": {
      "text/html": [
       "<div>\n",
       "<style scoped>\n",
       "    .dataframe tbody tr th:only-of-type {\n",
       "        vertical-align: middle;\n",
       "    }\n",
       "\n",
       "    .dataframe tbody tr th {\n",
       "        vertical-align: top;\n",
       "    }\n",
       "\n",
       "    .dataframe thead th {\n",
       "        text-align: right;\n",
       "    }\n",
       "</style>\n",
       "<table border=\"1\" class=\"dataframe\">\n",
       "  <thead>\n",
       "    <tr style=\"text-align: right;\">\n",
       "      <th></th>\n",
       "      <th>date</th>\n",
       "      <th>users</th>\n",
       "      <th>messages</th>\n",
       "    </tr>\n",
       "  </thead>\n",
       "  <tbody>\n",
       "    <tr>\n",
       "      <th>1</th>\n",
       "      <td>2021-12-19 23:09:00</td>\n",
       "      <td>Ankita</td>\n",
       "      <td>Kidhr h tu</td>\n",
       "    </tr>\n",
       "    <tr>\n",
       "      <th>2</th>\n",
       "      <td>2021-12-20 00:18:00</td>\n",
       "      <td>Shubham😎</td>\n",
       "      <td>🚂</td>\n",
       "    </tr>\n",
       "    <tr>\n",
       "      <th>3</th>\n",
       "      <td>2021-12-20 00:18:00</td>\n",
       "      <td>Ankita</td>\n",
       "      <td>Train m</td>\n",
       "    </tr>\n",
       "    <tr>\n",
       "      <th>4</th>\n",
       "      <td>2021-12-20 00:18:00</td>\n",
       "      <td>Ankita</td>\n",
       "      <td>🤗</td>\n",
       "    </tr>\n",
       "    <tr>\n",
       "      <th>5</th>\n",
       "      <td>2021-12-20 00:19:00</td>\n",
       "      <td>Shubham😎</td>\n",
       "      <td>Hanji</td>\n",
       "    </tr>\n",
       "  </tbody>\n",
       "</table>\n",
       "</div>"
      ],
      "text/plain": [
       "                 date     users    messages\n",
       "1 2021-12-19 23:09:00    Ankita  Kidhr h tu\n",
       "2 2021-12-20 00:18:00  Shubham😎           🚂\n",
       "3 2021-12-20 00:18:00    Ankita     Train m\n",
       "4 2021-12-20 00:18:00    Ankita           🤗\n",
       "5 2021-12-20 00:19:00  Shubham😎       Hanji"
      ]
     },
     "execution_count": 13,
     "metadata": {},
     "output_type": "execute_result"
    }
   ],
   "source": [
    "df = df[df['users'] != 'chat_notification']\n",
    "df.head()"
   ]
  },
  {
   "cell_type": "code",
   "execution_count": 14,
   "id": "4d4b2823",
   "metadata": {},
   "outputs": [
    {
     "data": {
      "text/html": [
       "<div>\n",
       "<style scoped>\n",
       "    .dataframe tbody tr th:only-of-type {\n",
       "        vertical-align: middle;\n",
       "    }\n",
       "\n",
       "    .dataframe tbody tr th {\n",
       "        vertical-align: top;\n",
       "    }\n",
       "\n",
       "    .dataframe thead th {\n",
       "        text-align: right;\n",
       "    }\n",
       "</style>\n",
       "<table border=\"1\" class=\"dataframe\">\n",
       "  <thead>\n",
       "    <tr style=\"text-align: right;\">\n",
       "      <th></th>\n",
       "      <th>date</th>\n",
       "      <th>users</th>\n",
       "      <th>messages</th>\n",
       "      <th>year</th>\n",
       "      <th>month</th>\n",
       "      <th>day</th>\n",
       "      <th>day_name</th>\n",
       "      <th>hour</th>\n",
       "      <th>minute</th>\n",
       "      <th>time</th>\n",
       "    </tr>\n",
       "  </thead>\n",
       "  <tbody>\n",
       "    <tr>\n",
       "      <th>1</th>\n",
       "      <td>2021-12-19</td>\n",
       "      <td>Ankita</td>\n",
       "      <td>Kidhr h tu</td>\n",
       "      <td>2021</td>\n",
       "      <td>December</td>\n",
       "      <td>19</td>\n",
       "      <td>Sunday</td>\n",
       "      <td>23</td>\n",
       "      <td>9</td>\n",
       "      <td>23:09:00</td>\n",
       "    </tr>\n",
       "    <tr>\n",
       "      <th>2</th>\n",
       "      <td>2021-12-20</td>\n",
       "      <td>Shubham😎</td>\n",
       "      <td>🚂</td>\n",
       "      <td>2021</td>\n",
       "      <td>December</td>\n",
       "      <td>20</td>\n",
       "      <td>Monday</td>\n",
       "      <td>0</td>\n",
       "      <td>18</td>\n",
       "      <td>00:18:00</td>\n",
       "    </tr>\n",
       "    <tr>\n",
       "      <th>3</th>\n",
       "      <td>2021-12-20</td>\n",
       "      <td>Ankita</td>\n",
       "      <td>Train m</td>\n",
       "      <td>2021</td>\n",
       "      <td>December</td>\n",
       "      <td>20</td>\n",
       "      <td>Monday</td>\n",
       "      <td>0</td>\n",
       "      <td>18</td>\n",
       "      <td>00:18:00</td>\n",
       "    </tr>\n",
       "    <tr>\n",
       "      <th>4</th>\n",
       "      <td>2021-12-20</td>\n",
       "      <td>Ankita</td>\n",
       "      <td>🤗</td>\n",
       "      <td>2021</td>\n",
       "      <td>December</td>\n",
       "      <td>20</td>\n",
       "      <td>Monday</td>\n",
       "      <td>0</td>\n",
       "      <td>18</td>\n",
       "      <td>00:18:00</td>\n",
       "    </tr>\n",
       "    <tr>\n",
       "      <th>5</th>\n",
       "      <td>2021-12-20</td>\n",
       "      <td>Shubham😎</td>\n",
       "      <td>Hanji</td>\n",
       "      <td>2021</td>\n",
       "      <td>December</td>\n",
       "      <td>20</td>\n",
       "      <td>Monday</td>\n",
       "      <td>0</td>\n",
       "      <td>19</td>\n",
       "      <td>00:19:00</td>\n",
       "    </tr>\n",
       "  </tbody>\n",
       "</table>\n",
       "</div>"
      ],
      "text/plain": [
       "         date     users    messages  year     month  day day_name  hour  \\\n",
       "1  2021-12-19    Ankita  Kidhr h tu  2021  December   19   Sunday    23   \n",
       "2  2021-12-20  Shubham😎           🚂  2021  December   20   Monday     0   \n",
       "3  2021-12-20    Ankita     Train m  2021  December   20   Monday     0   \n",
       "4  2021-12-20    Ankita           🤗  2021  December   20   Monday     0   \n",
       "5  2021-12-20  Shubham😎       Hanji  2021  December   20   Monday     0   \n",
       "\n",
       "   minute      time  \n",
       "1       9  23:09:00  \n",
       "2      18  00:18:00  \n",
       "3      18  00:18:00  \n",
       "4      18  00:18:00  \n",
       "5      19  00:19:00  "
      ]
     },
     "execution_count": 14,
     "metadata": {},
     "output_type": "execute_result"
    }
   ],
   "source": [
    "df['year'] = df['date'].dt.year\n",
    "df['month'] = df['date'].dt.month_name()\n",
    "df['day'] = df['date'].dt.day\n",
    "df['day_name'] = df['date'].dt.day_name()\n",
    "df['hour'] = df['date'].dt.hour\n",
    "df['minute'] = df['date'].dt.minute\n",
    "df['time'] = df['date'].dt.time\n",
    "df['date'] = df['date'].dt.date\n",
    "\n",
    "df.head()"
   ]
  },
  {
   "cell_type": "code",
   "execution_count": 15,
   "id": "0457dd1c",
   "metadata": {},
   "outputs": [
    {
     "name": "stdout",
     "output_type": "stream",
     "text": [
      "<class 'pandas.core.frame.DataFrame'>\n",
      "Int64Index: 3015 entries, 1 to 3018\n",
      "Data columns (total 10 columns):\n",
      " #   Column    Non-Null Count  Dtype \n",
      "---  ------    --------------  ----- \n",
      " 0   date      3015 non-null   object\n",
      " 1   users     3015 non-null   object\n",
      " 2   messages  3015 non-null   object\n",
      " 3   year      3015 non-null   int64 \n",
      " 4   month     3015 non-null   object\n",
      " 5   day       3015 non-null   int64 \n",
      " 6   day_name  3015 non-null   object\n",
      " 7   hour      3015 non-null   int64 \n",
      " 8   minute    3015 non-null   int64 \n",
      " 9   time      3015 non-null   object\n",
      "dtypes: int64(4), object(6)\n",
      "memory usage: 259.1+ KB\n"
     ]
    }
   ],
   "source": [
    "df.info()"
   ]
  },
  {
   "cell_type": "code",
   "execution_count": 16,
   "id": "30905719",
   "metadata": {},
   "outputs": [
    {
     "data": {
      "text/plain": [
       "date        0\n",
       "users       0\n",
       "messages    0\n",
       "year        0\n",
       "month       0\n",
       "day         0\n",
       "day_name    0\n",
       "hour        0\n",
       "minute      0\n",
       "time        0\n",
       "dtype: int64"
      ]
     },
     "execution_count": 16,
     "metadata": {},
     "output_type": "execute_result"
    }
   ],
   "source": [
    "df.isnull().sum()"
   ]
  },
  {
   "cell_type": "code",
   "execution_count": 17,
   "id": "70eb4dbb",
   "metadata": {},
   "outputs": [
    {
     "name": "stderr",
     "output_type": "stream",
     "text": [
      "[nltk_data] Downloading package vader_lexicon to\n",
      "[nltk_data]     C:\\Users\\dell\\AppData\\Roaming\\nltk_data...\n",
      "[nltk_data]   Package vader_lexicon is already up-to-date!\n"
     ]
    },
    {
     "data": {
      "text/plain": [
       "True"
      ]
     },
     "execution_count": 17,
     "metadata": {},
     "output_type": "execute_result"
    }
   ],
   "source": [
    "import nltk\n",
    "\n",
    "nltk.download('vader_lexicon')"
   ]
  },
  {
   "cell_type": "code",
   "execution_count": 18,
   "id": "ec1cb993",
   "metadata": {},
   "outputs": [],
   "source": [
    "from nltk.sentiment.vader import SentimentIntensityAnalyzer\n",
    "\n",
    "sentiments = SentimentIntensityAnalyzer()"
   ]
  },
  {
   "cell_type": "code",
   "execution_count": 19,
   "id": "3b9ab71c",
   "metadata": {},
   "outputs": [
    {
     "data": {
      "text/html": [
       "<div>\n",
       "<style scoped>\n",
       "    .dataframe tbody tr th:only-of-type {\n",
       "        vertical-align: middle;\n",
       "    }\n",
       "\n",
       "    .dataframe tbody tr th {\n",
       "        vertical-align: top;\n",
       "    }\n",
       "\n",
       "    .dataframe thead th {\n",
       "        text-align: right;\n",
       "    }\n",
       "</style>\n",
       "<table border=\"1\" class=\"dataframe\">\n",
       "  <thead>\n",
       "    <tr style=\"text-align: right;\">\n",
       "      <th></th>\n",
       "      <th>date</th>\n",
       "      <th>users</th>\n",
       "      <th>messages</th>\n",
       "      <th>year</th>\n",
       "      <th>month</th>\n",
       "      <th>day</th>\n",
       "      <th>day_name</th>\n",
       "      <th>hour</th>\n",
       "      <th>minute</th>\n",
       "      <th>time</th>\n",
       "      <th>positive_sent_%</th>\n",
       "      <th>negative_sent_%</th>\n",
       "      <th>neutral_sent_%</th>\n",
       "    </tr>\n",
       "  </thead>\n",
       "  <tbody>\n",
       "    <tr>\n",
       "      <th>1</th>\n",
       "      <td>2021-12-19</td>\n",
       "      <td>Ankita</td>\n",
       "      <td>Kidhr h tu</td>\n",
       "      <td>2021</td>\n",
       "      <td>December</td>\n",
       "      <td>19</td>\n",
       "      <td>Sunday</td>\n",
       "      <td>23</td>\n",
       "      <td>9</td>\n",
       "      <td>23:09:00</td>\n",
       "      <td>0.0</td>\n",
       "      <td>0.0</td>\n",
       "      <td>100.0</td>\n",
       "    </tr>\n",
       "    <tr>\n",
       "      <th>2</th>\n",
       "      <td>2021-12-20</td>\n",
       "      <td>Shubham😎</td>\n",
       "      <td>🚂</td>\n",
       "      <td>2021</td>\n",
       "      <td>December</td>\n",
       "      <td>20</td>\n",
       "      <td>Monday</td>\n",
       "      <td>0</td>\n",
       "      <td>18</td>\n",
       "      <td>00:18:00</td>\n",
       "      <td>0.0</td>\n",
       "      <td>0.0</td>\n",
       "      <td>0.0</td>\n",
       "    </tr>\n",
       "    <tr>\n",
       "      <th>3</th>\n",
       "      <td>2021-12-20</td>\n",
       "      <td>Ankita</td>\n",
       "      <td>Train m</td>\n",
       "      <td>2021</td>\n",
       "      <td>December</td>\n",
       "      <td>20</td>\n",
       "      <td>Monday</td>\n",
       "      <td>0</td>\n",
       "      <td>18</td>\n",
       "      <td>00:18:00</td>\n",
       "      <td>0.0</td>\n",
       "      <td>0.0</td>\n",
       "      <td>100.0</td>\n",
       "    </tr>\n",
       "    <tr>\n",
       "      <th>4</th>\n",
       "      <td>2021-12-20</td>\n",
       "      <td>Ankita</td>\n",
       "      <td>🤗</td>\n",
       "      <td>2021</td>\n",
       "      <td>December</td>\n",
       "      <td>20</td>\n",
       "      <td>Monday</td>\n",
       "      <td>0</td>\n",
       "      <td>18</td>\n",
       "      <td>00:18:00</td>\n",
       "      <td>0.0</td>\n",
       "      <td>0.0</td>\n",
       "      <td>0.0</td>\n",
       "    </tr>\n",
       "    <tr>\n",
       "      <th>5</th>\n",
       "      <td>2021-12-20</td>\n",
       "      <td>Shubham😎</td>\n",
       "      <td>Hanji</td>\n",
       "      <td>2021</td>\n",
       "      <td>December</td>\n",
       "      <td>20</td>\n",
       "      <td>Monday</td>\n",
       "      <td>0</td>\n",
       "      <td>19</td>\n",
       "      <td>00:19:00</td>\n",
       "      <td>0.0</td>\n",
       "      <td>0.0</td>\n",
       "      <td>100.0</td>\n",
       "    </tr>\n",
       "  </tbody>\n",
       "</table>\n",
       "</div>"
      ],
      "text/plain": [
       "         date     users    messages  year     month  day day_name  hour  \\\n",
       "1  2021-12-19    Ankita  Kidhr h tu  2021  December   19   Sunday    23   \n",
       "2  2021-12-20  Shubham😎           🚂  2021  December   20   Monday     0   \n",
       "3  2021-12-20    Ankita     Train m  2021  December   20   Monday     0   \n",
       "4  2021-12-20    Ankita           🤗  2021  December   20   Monday     0   \n",
       "5  2021-12-20  Shubham😎       Hanji  2021  December   20   Monday     0   \n",
       "\n",
       "   minute      time  positive_sent_%  negative_sent_%  neutral_sent_%  \n",
       "1       9  23:09:00              0.0              0.0           100.0  \n",
       "2      18  00:18:00              0.0              0.0             0.0  \n",
       "3      18  00:18:00              0.0              0.0           100.0  \n",
       "4      18  00:18:00              0.0              0.0             0.0  \n",
       "5      19  00:19:00              0.0              0.0           100.0  "
      ]
     },
     "execution_count": 19,
     "metadata": {},
     "output_type": "execute_result"
    }
   ],
   "source": [
    "df['positive_sent_%'] = [sentiments.polarity_scores(i)[\"pos\"]*100 for i in df['messages']]\n",
    "df['negative_sent_%'] = [sentiments.polarity_scores(i)[\"neg\"]*100 for i in df['messages']]\n",
    "df['neutral_sent_%'] = [sentiments.polarity_scores(i)[\"neu\"]*100 for i in df['messages']]\n",
    "\n",
    "df.head()"
   ]
  },
  {
   "cell_type": "code",
   "execution_count": 20,
   "id": "e0c6bfe5",
   "metadata": {},
   "outputs": [
    {
     "name": "stdout",
     "output_type": "stream",
     "text": [
      "Neutral\n"
     ]
    }
   ],
   "source": [
    "x = sum(df['positive_sent_%'])\n",
    "y = sum(df['negative_sent_%'])\n",
    "z = sum(df['neutral_sent_%'])\n",
    "\n",
    "def score(a,b,c):\n",
    "    if (a > b) and (a > c):\n",
    "        print('Positive')\n",
    "    if (b > a) and (b > c):\n",
    "        print('Negative')\n",
    "    if (c > a) and (c > b):\n",
    "        print('Neutral')\n",
    "\n",
    "score(x,y,z)"
   ]
  },
  {
   "cell_type": "code",
   "execution_count": null,
   "id": "533f0ef4",
   "metadata": {},
   "outputs": [],
   "source": []
  }
 ],
 "metadata": {
  "kernelspec": {
   "display_name": "Python 3 (ipykernel)",
   "language": "python",
   "name": "python3"
  },
  "language_info": {
   "codemirror_mode": {
    "name": "ipython",
    "version": 3
   },
   "file_extension": ".py",
   "mimetype": "text/x-python",
   "name": "python",
   "nbconvert_exporter": "python",
   "pygments_lexer": "ipython3",
   "version": "3.10.2"
  }
 },
 "nbformat": 4,
 "nbformat_minor": 5
}
