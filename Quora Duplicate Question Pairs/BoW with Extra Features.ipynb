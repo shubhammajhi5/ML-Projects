{
 "cells": [
  {
   "cell_type": "code",
   "execution_count": 1,
   "id": "9c54b005",
   "metadata": {},
   "outputs": [],
   "source": [
    "import numpy as np\n",
    "import pandas as pd\n",
    "import matplotlib.pyplot as plt\n",
    "import seaborn as sns\n",
    "\n",
    "import warnings\n",
    "warnings.filterwarnings('ignore')"
   ]
  },
  {
   "cell_type": "code",
   "execution_count": 2,
   "id": "7cd7a542",
   "metadata": {},
   "outputs": [],
   "source": [
    "df = pd.read_csv('quora_duplicate_questions.csv')"
   ]
  },
  {
   "cell_type": "code",
   "execution_count": 4,
   "id": "704b576c",
   "metadata": {},
   "outputs": [
    {
     "data": {
      "text/html": [
       "<div>\n",
       "<style scoped>\n",
       "    .dataframe tbody tr th:only-of-type {\n",
       "        vertical-align: middle;\n",
       "    }\n",
       "\n",
       "    .dataframe tbody tr th {\n",
       "        vertical-align: top;\n",
       "    }\n",
       "\n",
       "    .dataframe thead th {\n",
       "        text-align: right;\n",
       "    }\n",
       "</style>\n",
       "<table border=\"1\" class=\"dataframe\">\n",
       "  <thead>\n",
       "    <tr style=\"text-align: right;\">\n",
       "      <th></th>\n",
       "      <th>id</th>\n",
       "      <th>qid1</th>\n",
       "      <th>qid2</th>\n",
       "      <th>question1</th>\n",
       "      <th>question2</th>\n",
       "      <th>is_duplicate</th>\n",
       "    </tr>\n",
       "  </thead>\n",
       "  <tbody>\n",
       "    <tr>\n",
       "      <th>0</th>\n",
       "      <td>0</td>\n",
       "      <td>1</td>\n",
       "      <td>2</td>\n",
       "      <td>What is the step by step guide to invest in sh...</td>\n",
       "      <td>What is the step by step guide to invest in sh...</td>\n",
       "      <td>False</td>\n",
       "    </tr>\n",
       "    <tr>\n",
       "      <th>1</th>\n",
       "      <td>1</td>\n",
       "      <td>3</td>\n",
       "      <td>4</td>\n",
       "      <td>What is the story of Kohinoor (Koh-i-Noor) Dia...</td>\n",
       "      <td>What would happen if the Indian government sto...</td>\n",
       "      <td>False</td>\n",
       "    </tr>\n",
       "    <tr>\n",
       "      <th>2</th>\n",
       "      <td>2</td>\n",
       "      <td>5</td>\n",
       "      <td>6</td>\n",
       "      <td>How can I increase the speed of my internet co...</td>\n",
       "      <td>How can Internet speed be increased by hacking...</td>\n",
       "      <td>False</td>\n",
       "    </tr>\n",
       "    <tr>\n",
       "      <th>3</th>\n",
       "      <td>3</td>\n",
       "      <td>7</td>\n",
       "      <td>8</td>\n",
       "      <td>Why am I mentally very lonely? How can I solve...</td>\n",
       "      <td>Find the remainder when [math]23^{24}[/math] i...</td>\n",
       "      <td>False</td>\n",
       "    </tr>\n",
       "    <tr>\n",
       "      <th>4</th>\n",
       "      <td>4</td>\n",
       "      <td>9</td>\n",
       "      <td>10</td>\n",
       "      <td>Which one dissolve in water quikly sugar, salt...</td>\n",
       "      <td>Which fish would survive in salt water?</td>\n",
       "      <td>False</td>\n",
       "    </tr>\n",
       "  </tbody>\n",
       "</table>\n",
       "</div>"
      ],
      "text/plain": [
       "   id  qid1  qid2                                          question1  \\\n",
       "0   0     1     2  What is the step by step guide to invest in sh...   \n",
       "1   1     3     4  What is the story of Kohinoor (Koh-i-Noor) Dia...   \n",
       "2   2     5     6  How can I increase the speed of my internet co...   \n",
       "3   3     7     8  Why am I mentally very lonely? How can I solve...   \n",
       "4   4     9    10  Which one dissolve in water quikly sugar, salt...   \n",
       "\n",
       "                                           question2  is_duplicate  \n",
       "0  What is the step by step guide to invest in sh...         False  \n",
       "1  What would happen if the Indian government sto...         False  \n",
       "2  How can Internet speed be increased by hacking...         False  \n",
       "3  Find the remainder when [math]23^{24}[/math] i...         False  \n",
       "4            Which fish would survive in salt water?         False  "
      ]
     },
     "execution_count": 4,
     "metadata": {},
     "output_type": "execute_result"
    }
   ],
   "source": [
    "df.head()"
   ]
  },
  {
   "cell_type": "code",
   "execution_count": 5,
   "id": "6e79650a",
   "metadata": {},
   "outputs": [
    {
     "data": {
      "text/plain": [
       "(404351, 6)"
      ]
     },
     "execution_count": 5,
     "metadata": {},
     "output_type": "execute_result"
    }
   ],
   "source": [
    "df.shape"
   ]
  },
  {
   "cell_type": "code",
   "execution_count": 8,
   "id": "14bb5431",
   "metadata": {},
   "outputs": [
    {
     "data": {
      "text/html": [
       "<div>\n",
       "<style scoped>\n",
       "    .dataframe tbody tr th:only-of-type {\n",
       "        vertical-align: middle;\n",
       "    }\n",
       "\n",
       "    .dataframe tbody tr th {\n",
       "        vertical-align: top;\n",
       "    }\n",
       "\n",
       "    .dataframe thead th {\n",
       "        text-align: right;\n",
       "    }\n",
       "</style>\n",
       "<table border=\"1\" class=\"dataframe\">\n",
       "  <thead>\n",
       "    <tr style=\"text-align: right;\">\n",
       "      <th></th>\n",
       "      <th>id</th>\n",
       "      <th>qid1</th>\n",
       "      <th>qid2</th>\n",
       "      <th>question1</th>\n",
       "      <th>question2</th>\n",
       "      <th>is_duplicate</th>\n",
       "    </tr>\n",
       "  </thead>\n",
       "  <tbody>\n",
       "    <tr>\n",
       "      <th>0</th>\n",
       "      <td>0</td>\n",
       "      <td>1</td>\n",
       "      <td>2</td>\n",
       "      <td>What is the step by step guide to invest in sh...</td>\n",
       "      <td>What is the step by step guide to invest in sh...</td>\n",
       "      <td>0</td>\n",
       "    </tr>\n",
       "    <tr>\n",
       "      <th>1</th>\n",
       "      <td>1</td>\n",
       "      <td>3</td>\n",
       "      <td>4</td>\n",
       "      <td>What is the story of Kohinoor (Koh-i-Noor) Dia...</td>\n",
       "      <td>What would happen if the Indian government sto...</td>\n",
       "      <td>0</td>\n",
       "    </tr>\n",
       "    <tr>\n",
       "      <th>2</th>\n",
       "      <td>2</td>\n",
       "      <td>5</td>\n",
       "      <td>6</td>\n",
       "      <td>How can I increase the speed of my internet co...</td>\n",
       "      <td>How can Internet speed be increased by hacking...</td>\n",
       "      <td>0</td>\n",
       "    </tr>\n",
       "    <tr>\n",
       "      <th>3</th>\n",
       "      <td>3</td>\n",
       "      <td>7</td>\n",
       "      <td>8</td>\n",
       "      <td>Why am I mentally very lonely? How can I solve...</td>\n",
       "      <td>Find the remainder when [math]23^{24}[/math] i...</td>\n",
       "      <td>0</td>\n",
       "    </tr>\n",
       "    <tr>\n",
       "      <th>4</th>\n",
       "      <td>4</td>\n",
       "      <td>9</td>\n",
       "      <td>10</td>\n",
       "      <td>Which one dissolve in water quikly sugar, salt...</td>\n",
       "      <td>Which fish would survive in salt water?</td>\n",
       "      <td>0</td>\n",
       "    </tr>\n",
       "  </tbody>\n",
       "</table>\n",
       "</div>"
      ],
      "text/plain": [
       "   id  qid1  qid2                                          question1  \\\n",
       "0   0     1     2  What is the step by step guide to invest in sh...   \n",
       "1   1     3     4  What is the story of Kohinoor (Koh-i-Noor) Dia...   \n",
       "2   2     5     6  How can I increase the speed of my internet co...   \n",
       "3   3     7     8  Why am I mentally very lonely? How can I solve...   \n",
       "4   4     9    10  Which one dissolve in water quikly sugar, salt...   \n",
       "\n",
       "                                           question2  is_duplicate  \n",
       "0  What is the step by step guide to invest in sh...             0  \n",
       "1  What would happen if the Indian government sto...             0  \n",
       "2  How can Internet speed be increased by hacking...             0  \n",
       "3  Find the remainder when [math]23^{24}[/math] i...             0  \n",
       "4            Which fish would survive in salt water?             0  "
      ]
     },
     "execution_count": 8,
     "metadata": {},
     "output_type": "execute_result"
    }
   ],
   "source": [
    "df['is_duplicate'] = df['is_duplicate'].map({True : 1, False : 0})\n",
    "df.head()"
   ]
  },
  {
   "cell_type": "code",
   "execution_count": 12,
   "id": "c95d8d4a",
   "metadata": {},
   "outputs": [],
   "source": [
    "new_df = df.sample(30000)"
   ]
  },
  {
   "cell_type": "code",
   "execution_count": 13,
   "id": "ec90f8ad",
   "metadata": {},
   "outputs": [
    {
     "data": {
      "text/html": [
       "<div>\n",
       "<style scoped>\n",
       "    .dataframe tbody tr th:only-of-type {\n",
       "        vertical-align: middle;\n",
       "    }\n",
       "\n",
       "    .dataframe tbody tr th {\n",
       "        vertical-align: top;\n",
       "    }\n",
       "\n",
       "    .dataframe thead th {\n",
       "        text-align: right;\n",
       "    }\n",
       "</style>\n",
       "<table border=\"1\" class=\"dataframe\">\n",
       "  <thead>\n",
       "    <tr style=\"text-align: right;\">\n",
       "      <th></th>\n",
       "      <th>id</th>\n",
       "      <th>qid1</th>\n",
       "      <th>qid2</th>\n",
       "      <th>question1</th>\n",
       "      <th>question2</th>\n",
       "      <th>is_duplicate</th>\n",
       "    </tr>\n",
       "  </thead>\n",
       "  <tbody>\n",
       "    <tr>\n",
       "      <th>392384</th>\n",
       "      <td>392384</td>\n",
       "      <td>766912</td>\n",
       "      <td>766913</td>\n",
       "      <td>Will UX writing be replaced by AI?</td>\n",
       "      <td>What do I need to know to write my own rudimen...</td>\n",
       "      <td>0</td>\n",
       "    </tr>\n",
       "    <tr>\n",
       "      <th>276940</th>\n",
       "      <td>276940</td>\n",
       "      <td>544507</td>\n",
       "      <td>544508</td>\n",
       "      <td>What are useful strength training + weight lif...</td>\n",
       "      <td>What kind of strength training exercises do F1...</td>\n",
       "      <td>0</td>\n",
       "    </tr>\n",
       "    <tr>\n",
       "      <th>240720</th>\n",
       "      <td>240720</td>\n",
       "      <td>474150</td>\n",
       "      <td>474151</td>\n",
       "      <td>When do you think Donald Trump will be assassi...</td>\n",
       "      <td>Do you think Donald Trump will be assassinated?</td>\n",
       "      <td>0</td>\n",
       "    </tr>\n",
       "    <tr>\n",
       "      <th>283747</th>\n",
       "      <td>283747</td>\n",
       "      <td>557701</td>\n",
       "      <td>557702</td>\n",
       "      <td>Is Mexico in danger of becoming a failed state...</td>\n",
       "      <td>Why is Mexico City dangerous?</td>\n",
       "      <td>0</td>\n",
       "    </tr>\n",
       "    <tr>\n",
       "      <th>129602</th>\n",
       "      <td>129602</td>\n",
       "      <td>256711</td>\n",
       "      <td>256712</td>\n",
       "      <td>Where can you learn ethical hacking?</td>\n",
       "      <td>How do I learn ethical hacking and what is pen...</td>\n",
       "      <td>1</td>\n",
       "    </tr>\n",
       "  </tbody>\n",
       "</table>\n",
       "</div>"
      ],
      "text/plain": [
       "            id    qid1    qid2  \\\n",
       "392384  392384  766912  766913   \n",
       "276940  276940  544507  544508   \n",
       "240720  240720  474150  474151   \n",
       "283747  283747  557701  557702   \n",
       "129602  129602  256711  256712   \n",
       "\n",
       "                                                question1  \\\n",
       "392384                 Will UX writing be replaced by AI?   \n",
       "276940  What are useful strength training + weight lif...   \n",
       "240720  When do you think Donald Trump will be assassi...   \n",
       "283747  Is Mexico in danger of becoming a failed state...   \n",
       "129602               Where can you learn ethical hacking?   \n",
       "\n",
       "                                                question2  is_duplicate  \n",
       "392384  What do I need to know to write my own rudimen...             0  \n",
       "276940  What kind of strength training exercises do F1...             0  \n",
       "240720    Do you think Donald Trump will be assassinated?             0  \n",
       "283747                      Why is Mexico City dangerous?             0  \n",
       "129602  How do I learn ethical hacking and what is pen...             1  "
      ]
     },
     "execution_count": 13,
     "metadata": {},
     "output_type": "execute_result"
    }
   ],
   "source": [
    "new_df.head()"
   ]
  },
  {
   "cell_type": "code",
   "execution_count": 22,
   "id": "e2477575",
   "metadata": {},
   "outputs": [
    {
     "data": {
      "text/plain": [
       "(30000, 6)"
      ]
     },
     "execution_count": 22,
     "metadata": {},
     "output_type": "execute_result"
    }
   ],
   "source": [
    "new_df.shape"
   ]
  },
  {
   "cell_type": "code",
   "execution_count": 14,
   "id": "7639e09d",
   "metadata": {},
   "outputs": [
    {
     "data": {
      "text/plain": [
       "id              0\n",
       "qid1            0\n",
       "qid2            0\n",
       "question1       0\n",
       "question2       0\n",
       "is_duplicate    0\n",
       "dtype: int64"
      ]
     },
     "execution_count": 14,
     "metadata": {},
     "output_type": "execute_result"
    }
   ],
   "source": [
    "new_df.isnull().sum()"
   ]
  },
  {
   "cell_type": "code",
   "execution_count": 15,
   "id": "5bfc5895",
   "metadata": {},
   "outputs": [
    {
     "data": {
      "text/plain": [
       "0"
      ]
     },
     "execution_count": 15,
     "metadata": {},
     "output_type": "execute_result"
    }
   ],
   "source": [
    "new_df.duplicated().sum()"
   ]
  },
  {
   "cell_type": "code",
   "execution_count": 21,
   "id": "68344856",
   "metadata": {},
   "outputs": [
    {
     "data": {
      "text/plain": [
       "0    63.336667\n",
       "1    36.663333\n",
       "Name: is_duplicate, dtype: float64"
      ]
     },
     "execution_count": 21,
     "metadata": {},
     "output_type": "execute_result"
    }
   ],
   "source": [
    "# Distribution of duplicate and non-duplicate questions\n",
    "\n",
    "new_df['is_duplicate'].value_counts(normalize = True)*100"
   ]
  },
  {
   "cell_type": "code",
   "execution_count": 23,
   "id": "58fba077",
   "metadata": {},
   "outputs": [
    {
     "name": "stdout",
     "output_type": "stream",
     "text": [
      "Number of unique questions 59832\n",
      "Number of questions getting repeated 151\n"
     ]
    }
   ],
   "source": [
    "# Repeated questions\n",
    "\n",
    "qid = pd.Series(new_df['qid1'].tolist() + new_df['qid2'].tolist())\n",
    "print('Number of unique questions', np.unique(qid).shape[0])\n",
    "x = qid.value_counts() > 1\n",
    "print('Number of questions getting repeated', x[x].shape[0])"
   ]
  },
  {
   "cell_type": "code",
   "execution_count": 24,
   "id": "82419b8f",
   "metadata": {},
   "outputs": [
    {
     "data": {
      "image/png": "[encoded data removed]",
      "text/plain": [
       "<Figure size 432x288 with 1 Axes>"
      ]
     },
     "metadata": {
      "needs_background": "light"
     },
     "output_type": "display_data"
    }
   ],
   "source": [
    "# Repeated questions histogram\n",
    "\n",
    "plt.hist(qid.value_counts().values, bins=160)\n",
    "plt.yscale('log')\n",
    "plt.show()"
   ]
  },
  {
   "cell_type": "code",
   "execution_count": 25,
   "id": "6e6c0da1",
   "metadata": {},
   "outputs": [
    {
     "data": {
      "text/html": [
       "<div>\n",
       "<style scoped>\n",
       "    .dataframe tbody tr th:only-of-type {\n",
       "        vertical-align: middle;\n",
       "    }\n",
       "\n",
       "    .dataframe tbody tr th {\n",
       "        vertical-align: top;\n",
       "    }\n",
       "\n",
       "    .dataframe thead th {\n",
       "        text-align: right;\n",
       "    }\n",
       "</style>\n",
       "<table border=\"1\" class=\"dataframe\">\n",
       "  <thead>\n",
       "    <tr style=\"text-align: right;\">\n",
       "      <th></th>\n",
       "      <th>id</th>\n",
       "      <th>qid1</th>\n",
       "      <th>qid2</th>\n",
       "      <th>question1</th>\n",
       "      <th>question2</th>\n",
       "      <th>is_duplicate</th>\n",
       "      <th>q1_len</th>\n",
       "      <th>q2_len</th>\n",
       "    </tr>\n",
       "  </thead>\n",
       "  <tbody>\n",
       "    <tr>\n",
       "      <th>392384</th>\n",
       "      <td>392384</td>\n",
       "      <td>766912</td>\n",
       "      <td>766913</td>\n",
       "      <td>Will UX writing be replaced by AI?</td>\n",
       "      <td>What do I need to know to write my own rudimen...</td>\n",
       "      <td>0</td>\n",
       "      <td>34</td>\n",
       "      <td>54</td>\n",
       "    </tr>\n",
       "    <tr>\n",
       "      <th>276940</th>\n",
       "      <td>276940</td>\n",
       "      <td>544507</td>\n",
       "      <td>544508</td>\n",
       "      <td>What are useful strength training + weight lif...</td>\n",
       "      <td>What kind of strength training exercises do F1...</td>\n",
       "      <td>0</td>\n",
       "      <td>118</td>\n",
       "      <td>58</td>\n",
       "    </tr>\n",
       "    <tr>\n",
       "      <th>240720</th>\n",
       "      <td>240720</td>\n",
       "      <td>474150</td>\n",
       "      <td>474151</td>\n",
       "      <td>When do you think Donald Trump will be assassi...</td>\n",
       "      <td>Do you think Donald Trump will be assassinated?</td>\n",
       "      <td>0</td>\n",
       "      <td>52</td>\n",
       "      <td>47</td>\n",
       "    </tr>\n",
       "    <tr>\n",
       "      <th>283747</th>\n",
       "      <td>283747</td>\n",
       "      <td>557701</td>\n",
       "      <td>557702</td>\n",
       "      <td>Is Mexico in danger of becoming a failed state...</td>\n",
       "      <td>Why is Mexico City dangerous?</td>\n",
       "      <td>0</td>\n",
       "      <td>83</td>\n",
       "      <td>29</td>\n",
       "    </tr>\n",
       "    <tr>\n",
       "      <th>129602</th>\n",
       "      <td>129602</td>\n",
       "      <td>256711</td>\n",
       "      <td>256712</td>\n",
       "      <td>Where can you learn ethical hacking?</td>\n",
       "      <td>How do I learn ethical hacking and what is pen...</td>\n",
       "      <td>1</td>\n",
       "      <td>36</td>\n",
       "      <td>54</td>\n",
       "    </tr>\n",
       "  </tbody>\n",
       "</table>\n",
       "</div>"
      ],
      "text/plain": [
       "            id    qid1    qid2  \\\n",
       "392384  392384  766912  766913   \n",
       "276940  276940  544507  544508   \n",
       "240720  240720  474150  474151   \n",
       "283747  283747  557701  557702   \n",
       "129602  129602  256711  256712   \n",
       "\n",
       "                                                question1  \\\n",
       "392384                 Will UX writing be replaced by AI?   \n",
       "276940  What are useful strength training + weight lif...   \n",
       "240720  When do you think Donald Trump will be assassi...   \n",
       "283747  Is Mexico in danger of becoming a failed state...   \n",
       "129602               Where can you learn ethical hacking?   \n",
       "\n",
       "                                                question2  is_duplicate  \\\n",
       "392384  What do I need to know to write my own rudimen...             0   \n",
       "276940  What kind of strength training exercises do F1...             0   \n",
       "240720    Do you think Donald Trump will be assassinated?             0   \n",
       "283747                      Why is Mexico City dangerous?             0   \n",
       "129602  How do I learn ethical hacking and what is pen...             1   \n",
       "\n",
       "        q1_len  q2_len  \n",
       "392384      34      54  \n",
       "276940     118      58  \n",
       "240720      52      47  \n",
       "283747      83      29  \n",
       "129602      36      54  "
      ]
     },
     "execution_count": 25,
     "metadata": {},
     "output_type": "execute_result"
    }
   ],
   "source": [
    "# Creating extra Features\n",
    "\n",
    "new_df['q1_len'] = new_df['question1'].str.len() \n",
    "new_df['q2_len'] = new_df['question2'].str.len()\n",
    "\n",
    "new_df.head()"
   ]
  },
  {
   "cell_type": "code",
   "execution_count": 26,
   "id": "fc9b9359",
   "metadata": {},
   "outputs": [
    {
     "data": {
      "text/html": [
       "<div>\n",
       "<style scoped>\n",
       "    .dataframe tbody tr th:only-of-type {\n",
       "        vertical-align: middle;\n",
       "    }\n",
       "\n",
       "    .dataframe tbody tr th {\n",
       "        vertical-align: top;\n",
       "    }\n",
       "\n",
       "    .dataframe thead th {\n",
       "        text-align: right;\n",
       "    }\n",
       "</style>\n",
       "<table border=\"1\" class=\"dataframe\">\n",
       "  <thead>\n",
       "    <tr style=\"text-align: right;\">\n",
       "      <th></th>\n",
       "      <th>id</th>\n",
       "      <th>qid1</th>\n",
       "      <th>qid2</th>\n",
       "      <th>question1</th>\n",
       "      <th>question2</th>\n",
       "      <th>is_duplicate</th>\n",
       "      <th>q1_len</th>\n",
       "      <th>q2_len</th>\n",
       "      <th>q1_num_words</th>\n",
       "      <th>q2_num_words</th>\n",
       "    </tr>\n",
       "  </thead>\n",
       "  <tbody>\n",
       "    <tr>\n",
       "      <th>392384</th>\n",
       "      <td>392384</td>\n",
       "      <td>766912</td>\n",
       "      <td>766913</td>\n",
       "      <td>Will UX writing be replaced by AI?</td>\n",
       "      <td>What do I need to know to write my own rudimen...</td>\n",
       "      <td>0</td>\n",
       "      <td>34</td>\n",
       "      <td>54</td>\n",
       "      <td>7</td>\n",
       "      <td>12</td>\n",
       "    </tr>\n",
       "    <tr>\n",
       "      <th>276940</th>\n",
       "      <td>276940</td>\n",
       "      <td>544507</td>\n",
       "      <td>544508</td>\n",
       "      <td>What are useful strength training + weight lif...</td>\n",
       "      <td>What kind of strength training exercises do F1...</td>\n",
       "      <td>0</td>\n",
       "      <td>118</td>\n",
       "      <td>58</td>\n",
       "      <td>18</td>\n",
       "      <td>10</td>\n",
       "    </tr>\n",
       "    <tr>\n",
       "      <th>240720</th>\n",
       "      <td>240720</td>\n",
       "      <td>474150</td>\n",
       "      <td>474151</td>\n",
       "      <td>When do you think Donald Trump will be assassi...</td>\n",
       "      <td>Do you think Donald Trump will be assassinated?</td>\n",
       "      <td>0</td>\n",
       "      <td>52</td>\n",
       "      <td>47</td>\n",
       "      <td>9</td>\n",
       "      <td>8</td>\n",
       "    </tr>\n",
       "    <tr>\n",
       "      <th>283747</th>\n",
       "      <td>283747</td>\n",
       "      <td>557701</td>\n",
       "      <td>557702</td>\n",
       "      <td>Is Mexico in danger of becoming a failed state...</td>\n",
       "      <td>Why is Mexico City dangerous?</td>\n",
       "      <td>0</td>\n",
       "      <td>83</td>\n",
       "      <td>29</td>\n",
       "      <td>17</td>\n",
       "      <td>5</td>\n",
       "    </tr>\n",
       "    <tr>\n",
       "      <th>129602</th>\n",
       "      <td>129602</td>\n",
       "      <td>256711</td>\n",
       "      <td>256712</td>\n",
       "      <td>Where can you learn ethical hacking?</td>\n",
       "      <td>How do I learn ethical hacking and what is pen...</td>\n",
       "      <td>1</td>\n",
       "      <td>36</td>\n",
       "      <td>54</td>\n",
       "      <td>6</td>\n",
       "      <td>10</td>\n",
       "    </tr>\n",
       "  </tbody>\n",
       "</table>\n",
       "</div>"
      ],
      "text/plain": [
       "            id    qid1    qid2  \\\n",
       "392384  392384  766912  766913   \n",
       "276940  276940  544507  544508   \n",
       "240720  240720  474150  474151   \n",
       "283747  283747  557701  557702   \n",
       "129602  129602  256711  256712   \n",
       "\n",
       "                                                question1  \\\n",
       "392384                 Will UX writing be replaced by AI?   \n",
       "276940  What are useful strength training + weight lif...   \n",
       "240720  When do you think Donald Trump will be assassi...   \n",
       "283747  Is Mexico in danger of becoming a failed state...   \n",
       "129602               Where can you learn ethical hacking?   \n",
       "\n",
       "                                                question2  is_duplicate  \\\n",
       "392384  What do I need to know to write my own rudimen...             0   \n",
       "276940  What kind of strength training exercises do F1...             0   \n",
       "240720    Do you think Donald Trump will be assassinated?             0   \n",
       "283747                      Why is Mexico City dangerous?             0   \n",
       "129602  How do I learn ethical hacking and what is pen...             1   \n",
       "\n",
       "        q1_len  q2_len  q1_num_words  q2_num_words  \n",
       "392384      34      54             7            12  \n",
       "276940     118      58            18            10  \n",
       "240720      52      47             9             8  \n",
       "283747      83      29            17             5  \n",
       "129602      36      54             6            10  "
      ]
     },
     "execution_count": 26,
     "metadata": {},
     "output_type": "execute_result"
    }
   ],
   "source": [
    "new_df['q1_num_words'] = new_df['question1'].apply(lambda x: len(x.split(' ')))\n",
    "new_df['q2_num_words'] = new_df['question2'].apply(lambda x: len(x.split(' ')))\n",
    "\n",
    "new_df.head()"
   ]
  },
  {
   "cell_type": "code",
   "execution_count": 27,
   "id": "7c178a06",
   "metadata": {},
   "outputs": [],
   "source": [
    "def common_words(row):\n",
    "    w1 = set(map(lambda word: word.lower().strip(), row['question1'].split(\" \")))\n",
    "    w2 = set(map(lambda word: word.lower().strip(), row['question2'].split(\" \")))    \n",
    "    return len(w1 & w2)"
   ]
  },
  {
   "cell_type": "code",
   "execution_count": 28,
   "id": "b5cdd071",
   "metadata": {},
   "outputs": [
    {
     "data": {
      "text/html": [
       "<div>\n",
       "<style scoped>\n",
       "    .dataframe tbody tr th:only-of-type {\n",
       "        vertical-align: middle;\n",
       "    }\n",
       "\n",
       "    .dataframe tbody tr th {\n",
       "        vertical-align: top;\n",
       "    }\n",
       "\n",
       "    .dataframe thead th {\n",
       "        text-align: right;\n",
       "    }\n",
       "</style>\n",
       "<table border=\"1\" class=\"dataframe\">\n",
       "  <thead>\n",
       "    <tr style=\"text-align: right;\">\n",
       "      <th></th>\n",
       "      <th>id</th>\n",
       "      <th>qid1</th>\n",
       "      <th>qid2</th>\n",
       "      <th>question1</th>\n",
       "      <th>question2</th>\n",
       "      <th>is_duplicate</th>\n",
       "      <th>q1_len</th>\n",
       "      <th>q2_len</th>\n",
       "      <th>q1_num_words</th>\n",
       "      <th>q2_num_words</th>\n",
       "      <th>word_common</th>\n",
       "    </tr>\n",
       "  </thead>\n",
       "  <tbody>\n",
       "    <tr>\n",
       "      <th>392384</th>\n",
       "      <td>392384</td>\n",
       "      <td>766912</td>\n",
       "      <td>766913</td>\n",
       "      <td>Will UX writing be replaced by AI?</td>\n",
       "      <td>What do I need to know to write my own rudimen...</td>\n",
       "      <td>0</td>\n",
       "      <td>34</td>\n",
       "      <td>54</td>\n",
       "      <td>7</td>\n",
       "      <td>12</td>\n",
       "      <td>1</td>\n",
       "    </tr>\n",
       "    <tr>\n",
       "      <th>276940</th>\n",
       "      <td>276940</td>\n",
       "      <td>544507</td>\n",
       "      <td>544508</td>\n",
       "      <td>What are useful strength training + weight lif...</td>\n",
       "      <td>What kind of strength training exercises do F1...</td>\n",
       "      <td>0</td>\n",
       "      <td>118</td>\n",
       "      <td>58</td>\n",
       "      <td>18</td>\n",
       "      <td>10</td>\n",
       "      <td>4</td>\n",
       "    </tr>\n",
       "    <tr>\n",
       "      <th>240720</th>\n",
       "      <td>240720</td>\n",
       "      <td>474150</td>\n",
       "      <td>474151</td>\n",
       "      <td>When do you think Donald Trump will be assassi...</td>\n",
       "      <td>Do you think Donald Trump will be assassinated?</td>\n",
       "      <td>0</td>\n",
       "      <td>52</td>\n",
       "      <td>47</td>\n",
       "      <td>9</td>\n",
       "      <td>8</td>\n",
       "      <td>8</td>\n",
       "    </tr>\n",
       "    <tr>\n",
       "      <th>283747</th>\n",
       "      <td>283747</td>\n",
       "      <td>557701</td>\n",
       "      <td>557702</td>\n",
       "      <td>Is Mexico in danger of becoming a failed state...</td>\n",
       "      <td>Why is Mexico City dangerous?</td>\n",
       "      <td>0</td>\n",
       "      <td>83</td>\n",
       "      <td>29</td>\n",
       "      <td>17</td>\n",
       "      <td>5</td>\n",
       "      <td>2</td>\n",
       "    </tr>\n",
       "    <tr>\n",
       "      <th>129602</th>\n",
       "      <td>129602</td>\n",
       "      <td>256711</td>\n",
       "      <td>256712</td>\n",
       "      <td>Where can you learn ethical hacking?</td>\n",
       "      <td>How do I learn ethical hacking and what is pen...</td>\n",
       "      <td>1</td>\n",
       "      <td>36</td>\n",
       "      <td>54</td>\n",
       "      <td>6</td>\n",
       "      <td>10</td>\n",
       "      <td>2</td>\n",
       "    </tr>\n",
       "  </tbody>\n",
       "</table>\n",
       "</div>"
      ],
      "text/plain": [
       "            id    qid1    qid2  \\\n",
       "392384  392384  766912  766913   \n",
       "276940  276940  544507  544508   \n",
       "240720  240720  474150  474151   \n",
       "283747  283747  557701  557702   \n",
       "129602  129602  256711  256712   \n",
       "\n",
       "                                                question1  \\\n",
       "392384                 Will UX writing be replaced by AI?   \n",
       "276940  What are useful strength training + weight lif...   \n",
       "240720  When do you think Donald Trump will be assassi...   \n",
       "283747  Is Mexico in danger of becoming a failed state...   \n",
       "129602               Where can you learn ethical hacking?   \n",
       "\n",
       "                                                question2  is_duplicate  \\\n",
       "392384  What do I need to know to write my own rudimen...             0   \n",
       "276940  What kind of strength training exercises do F1...             0   \n",
       "240720    Do you think Donald Trump will be assassinated?             0   \n",
       "283747                      Why is Mexico City dangerous?             0   \n",
       "129602  How do I learn ethical hacking and what is pen...             1   \n",
       "\n",
       "        q1_len  q2_len  q1_num_words  q2_num_words  word_common  \n",
       "392384      34      54             7            12            1  \n",
       "276940     118      58            18            10            4  \n",
       "240720      52      47             9             8            8  \n",
       "283747      83      29            17             5            2  \n",
       "129602      36      54             6            10            2  "
      ]
     },
     "execution_count": 28,
     "metadata": {},
     "output_type": "execute_result"
    }
   ],
   "source": [
    "new_df['word_common'] = new_df.apply(common_words, axis=1)\n",
    "new_df.head()"
   ]
  },
  {
   "cell_type": "code",
   "execution_count": 29,
   "id": "f23a094f",
   "metadata": {},
   "outputs": [],
   "source": [
    "def total_words(row):\n",
    "    w1 = set(map(lambda word: word.lower().strip(), row['question1'].split(\" \")))\n",
    "    w2 = set(map(lambda word: word.lower().strip(), row['question2'].split(\" \")))    \n",
    "    return (len(w1) + len(w2))"
   ]
  },
  {
   "cell_type": "code",
   "execution_count": 30,
   "id": "11700d44",
   "metadata": {},
   "outputs": [
    {
     "data": {
      "text/html": [
       "<div>\n",
       "<style scoped>\n",
       "    .dataframe tbody tr th:only-of-type {\n",
       "        vertical-align: middle;\n",
       "    }\n",
       "\n",
       "    .dataframe tbody tr th {\n",
       "        vertical-align: top;\n",
       "    }\n",
       "\n",
       "    .dataframe thead th {\n",
       "        text-align: right;\n",
       "    }\n",
       "</style>\n",
       "<table border=\"1\" class=\"dataframe\">\n",
       "  <thead>\n",
       "    <tr style=\"text-align: right;\">\n",
       "      <th></th>\n",
       "      <th>id</th>\n",
       "      <th>qid1</th>\n",
       "      <th>qid2</th>\n",
       "      <th>question1</th>\n",
       "      <th>question2</th>\n",
       "      <th>is_duplicate</th>\n",
       "      <th>q1_len</th>\n",
       "      <th>q2_len</th>\n",
       "      <th>q1_num_words</th>\n",
       "      <th>q2_num_words</th>\n",
       "      <th>word_common</th>\n",
       "      <th>word_total</th>\n",
       "    </tr>\n",
       "  </thead>\n",
       "  <tbody>\n",
       "    <tr>\n",
       "      <th>392384</th>\n",
       "      <td>392384</td>\n",
       "      <td>766912</td>\n",
       "      <td>766913</td>\n",
       "      <td>Will UX writing be replaced by AI?</td>\n",
       "      <td>What do I need to know to write my own rudimen...</td>\n",
       "      <td>0</td>\n",
       "      <td>34</td>\n",
       "      <td>54</td>\n",
       "      <td>7</td>\n",
       "      <td>12</td>\n",
       "      <td>1</td>\n",
       "      <td>18</td>\n",
       "    </tr>\n",
       "    <tr>\n",
       "      <th>276940</th>\n",
       "      <td>276940</td>\n",
       "      <td>544507</td>\n",
       "      <td>544508</td>\n",
       "      <td>What are useful strength training + weight lif...</td>\n",
       "      <td>What kind of strength training exercises do F1...</td>\n",
       "      <td>0</td>\n",
       "      <td>118</td>\n",
       "      <td>58</td>\n",
       "      <td>18</td>\n",
       "      <td>10</td>\n",
       "      <td>4</td>\n",
       "      <td>27</td>\n",
       "    </tr>\n",
       "    <tr>\n",
       "      <th>240720</th>\n",
       "      <td>240720</td>\n",
       "      <td>474150</td>\n",
       "      <td>474151</td>\n",
       "      <td>When do you think Donald Trump will be assassi...</td>\n",
       "      <td>Do you think Donald Trump will be assassinated?</td>\n",
       "      <td>0</td>\n",
       "      <td>52</td>\n",
       "      <td>47</td>\n",
       "      <td>9</td>\n",
       "      <td>8</td>\n",
       "      <td>8</td>\n",
       "      <td>17</td>\n",
       "    </tr>\n",
       "    <tr>\n",
       "      <th>283747</th>\n",
       "      <td>283747</td>\n",
       "      <td>557701</td>\n",
       "      <td>557702</td>\n",
       "      <td>Is Mexico in danger of becoming a failed state...</td>\n",
       "      <td>Why is Mexico City dangerous?</td>\n",
       "      <td>0</td>\n",
       "      <td>83</td>\n",
       "      <td>29</td>\n",
       "      <td>17</td>\n",
       "      <td>5</td>\n",
       "      <td>2</td>\n",
       "      <td>21</td>\n",
       "    </tr>\n",
       "    <tr>\n",
       "      <th>129602</th>\n",
       "      <td>129602</td>\n",
       "      <td>256711</td>\n",
       "      <td>256712</td>\n",
       "      <td>Where can you learn ethical hacking?</td>\n",
       "      <td>How do I learn ethical hacking and what is pen...</td>\n",
       "      <td>1</td>\n",
       "      <td>36</td>\n",
       "      <td>54</td>\n",
       "      <td>6</td>\n",
       "      <td>10</td>\n",
       "      <td>2</td>\n",
       "      <td>16</td>\n",
       "    </tr>\n",
       "  </tbody>\n",
       "</table>\n",
       "</div>"
      ],
      "text/plain": [
       "            id    qid1    qid2  \\\n",
       "392384  392384  766912  766913   \n",
       "276940  276940  544507  544508   \n",
       "240720  240720  474150  474151   \n",
       "283747  283747  557701  557702   \n",
       "129602  129602  256711  256712   \n",
       "\n",
       "                                                question1  \\\n",
       "392384                 Will UX writing be replaced by AI?   \n",
       "276940  What are useful strength training + weight lif...   \n",
       "240720  When do you think Donald Trump will be assassi...   \n",
       "283747  Is Mexico in danger of becoming a failed state...   \n",
       "129602               Where can you learn ethical hacking?   \n",
       "\n",
       "                                                question2  is_duplicate  \\\n",
       "392384  What do I need to know to write my own rudimen...             0   \n",
       "276940  What kind of strength training exercises do F1...             0   \n",
       "240720    Do you think Donald Trump will be assassinated?             0   \n",
       "283747                      Why is Mexico City dangerous?             0   \n",
       "129602  How do I learn ethical hacking and what is pen...             1   \n",
       "\n",
       "        q1_len  q2_len  q1_num_words  q2_num_words  word_common  word_total  \n",
       "392384      34      54             7            12            1          18  \n",
       "276940     118      58            18            10            4          27  \n",
       "240720      52      47             9             8            8          17  \n",
       "283747      83      29            17             5            2          21  \n",
       "129602      36      54             6            10            2          16  "
      ]
     },
     "execution_count": 30,
     "metadata": {},
     "output_type": "execute_result"
    }
   ],
   "source": [
    "new_df['word_total'] = new_df.apply(total_words, axis=1)\n",
    "new_df.head()"
   ]
  },
  {
   "cell_type": "code",
   "execution_count": 31,
   "id": "3febd73b",
   "metadata": {},
   "outputs": [
    {
     "data": {
      "text/html": [
       "<div>\n",
       "<style scoped>\n",
       "    .dataframe tbody tr th:only-of-type {\n",
       "        vertical-align: middle;\n",
       "    }\n",
       "\n",
       "    .dataframe tbody tr th {\n",
       "        vertical-align: top;\n",
       "    }\n",
       "\n",
       "    .dataframe thead th {\n",
       "        text-align: right;\n",
       "    }\n",
       "</style>\n",
       "<table border=\"1\" class=\"dataframe\">\n",
       "  <thead>\n",
       "    <tr style=\"text-align: right;\">\n",
       "      <th></th>\n",
       "      <th>id</th>\n",
       "      <th>qid1</th>\n",
       "      <th>qid2</th>\n",
       "      <th>question1</th>\n",
       "      <th>question2</th>\n",
       "      <th>is_duplicate</th>\n",
       "      <th>q1_len</th>\n",
       "      <th>q2_len</th>\n",
       "      <th>q1_num_words</th>\n",
       "      <th>q2_num_words</th>\n",
       "      <th>word_common</th>\n",
       "      <th>word_total</th>\n",
       "      <th>word_share</th>\n",
       "    </tr>\n",
       "  </thead>\n",
       "  <tbody>\n",
       "    <tr>\n",
       "      <th>392384</th>\n",
       "      <td>392384</td>\n",
       "      <td>766912</td>\n",
       "      <td>766913</td>\n",
       "      <td>Will UX writing be replaced by AI?</td>\n",
       "      <td>What do I need to know to write my own rudimen...</td>\n",
       "      <td>0</td>\n",
       "      <td>34</td>\n",
       "      <td>54</td>\n",
       "      <td>7</td>\n",
       "      <td>12</td>\n",
       "      <td>1</td>\n",
       "      <td>18</td>\n",
       "      <td>0.06</td>\n",
       "    </tr>\n",
       "    <tr>\n",
       "      <th>276940</th>\n",
       "      <td>276940</td>\n",
       "      <td>544507</td>\n",
       "      <td>544508</td>\n",
       "      <td>What are useful strength training + weight lif...</td>\n",
       "      <td>What kind of strength training exercises do F1...</td>\n",
       "      <td>0</td>\n",
       "      <td>118</td>\n",
       "      <td>58</td>\n",
       "      <td>18</td>\n",
       "      <td>10</td>\n",
       "      <td>4</td>\n",
       "      <td>27</td>\n",
       "      <td>0.15</td>\n",
       "    </tr>\n",
       "    <tr>\n",
       "      <th>240720</th>\n",
       "      <td>240720</td>\n",
       "      <td>474150</td>\n",
       "      <td>474151</td>\n",
       "      <td>When do you think Donald Trump will be assassi...</td>\n",
       "      <td>Do you think Donald Trump will be assassinated?</td>\n",
       "      <td>0</td>\n",
       "      <td>52</td>\n",
       "      <td>47</td>\n",
       "      <td>9</td>\n",
       "      <td>8</td>\n",
       "      <td>8</td>\n",
       "      <td>17</td>\n",
       "      <td>0.47</td>\n",
       "    </tr>\n",
       "    <tr>\n",
       "      <th>283747</th>\n",
       "      <td>283747</td>\n",
       "      <td>557701</td>\n",
       "      <td>557702</td>\n",
       "      <td>Is Mexico in danger of becoming a failed state...</td>\n",
       "      <td>Why is Mexico City dangerous?</td>\n",
       "      <td>0</td>\n",
       "      <td>83</td>\n",
       "      <td>29</td>\n",
       "      <td>17</td>\n",
       "      <td>5</td>\n",
       "      <td>2</td>\n",
       "      <td>21</td>\n",
       "      <td>0.10</td>\n",
       "    </tr>\n",
       "    <tr>\n",
       "      <th>129602</th>\n",
       "      <td>129602</td>\n",
       "      <td>256711</td>\n",
       "      <td>256712</td>\n",
       "      <td>Where can you learn ethical hacking?</td>\n",
       "      <td>How do I learn ethical hacking and what is pen...</td>\n",
       "      <td>1</td>\n",
       "      <td>36</td>\n",
       "      <td>54</td>\n",
       "      <td>6</td>\n",
       "      <td>10</td>\n",
       "      <td>2</td>\n",
       "      <td>16</td>\n",
       "      <td>0.12</td>\n",
       "    </tr>\n",
       "  </tbody>\n",
       "</table>\n",
       "</div>"
      ],
      "text/plain": [
       "            id    qid1    qid2  \\\n",
       "392384  392384  766912  766913   \n",
       "276940  276940  544507  544508   \n",
       "240720  240720  474150  474151   \n",
       "283747  283747  557701  557702   \n",
       "129602  129602  256711  256712   \n",
       "\n",
       "                                                question1  \\\n",
       "392384                 Will UX writing be replaced by AI?   \n",
       "276940  What are useful strength training + weight lif...   \n",
       "240720  When do you think Donald Trump will be assassi...   \n",
       "283747  Is Mexico in danger of becoming a failed state...   \n",
       "129602               Where can you learn ethical hacking?   \n",
       "\n",
       "                                                question2  is_duplicate  \\\n",
       "392384  What do I need to know to write my own rudimen...             0   \n",
       "276940  What kind of strength training exercises do F1...             0   \n",
       "240720    Do you think Donald Trump will be assassinated?             0   \n",
       "283747                      Why is Mexico City dangerous?             0   \n",
       "129602  How do I learn ethical hacking and what is pen...             1   \n",
       "\n",
       "        q1_len  q2_len  q1_num_words  q2_num_words  word_common  word_total  \\\n",
       "392384      34      54             7            12            1          18   \n",
       "276940     118      58            18            10            4          27   \n",
       "240720      52      47             9             8            8          17   \n",
       "283747      83      29            17             5            2          21   \n",
       "129602      36      54             6            10            2          16   \n",
       "\n",
       "        word_share  \n",
       "392384        0.06  \n",
       "276940        0.15  \n",
       "240720        0.47  \n",
       "283747        0.10  \n",
       "129602        0.12  "
      ]
     },
     "execution_count": 31,
     "metadata": {},
     "output_type": "execute_result"
    }
   ],
   "source": [
    "new_df['word_share'] = round(new_df['word_common']/new_df['word_total'], 2)\n",
    "new_df.head()"
   ]
  },
  {
   "cell_type": "code",
   "execution_count": 32,
   "id": "068757f6",
   "metadata": {},
   "outputs": [
    {
     "name": "stdout",
     "output_type": "stream",
     "text": [
      "minimum characters 3\n",
      "maximum characters 412\n",
      "average num of characters 59\n"
     ]
    },
    {
     "data": {
      "image/png": "[encoded data removed]",
      "text/plain": [
       "<Figure size 360x360 with 1 Axes>"
      ]
     },
     "metadata": {
      "needs_background": "light"
     },
     "output_type": "display_data"
    }
   ],
   "source": [
    "# Analysis of features\n",
    "\n",
    "sns.displot(new_df['q1_len'])\n",
    "print('minimum characters', new_df['q1_len'].min())\n",
    "print('maximum characters', new_df['q1_len'].max())\n",
    "print('average num of characters', int(new_df['q1_len'].mean()))"
   ]
  },
  {
   "cell_type": "code",
   "execution_count": 33,
   "id": "3c1c9787",
   "metadata": {},
   "outputs": [
    {
     "name": "stdout",
     "output_type": "stream",
     "text": [
      "minimum characters 11\n",
      "maximum characters 1169\n",
      "average num of characters 60\n"
     ]
    },
    {
     "data": {
      "image/png": "[encoded data removed]",
      "text/plain": [
       "<Figure size 360x360 with 1 Axes>"
      ]
     },
     "metadata": {
      "needs_background": "light"
     },
     "output_type": "display_data"
    }
   ],
   "source": [
    "sns.displot(new_df['q2_len'])\n",
    "print('minimum characters', new_df['q2_len'].min())\n",
    "print('maximum characters', new_df['q2_len'].max())\n",
    "print('average num of characters', int(new_df['q2_len'].mean()))"
   ]
  },
  {
   "cell_type": "code",
   "execution_count": 34,
   "id": "cee819d7",
   "metadata": {},
   "outputs": [
    {
     "name": "stdout",
     "output_type": "stream",
     "text": [
      "minimum words 1\n",
      "maximum words 78\n",
      "average num of words 10\n"
     ]
    },
    {
     "data": {
      "image/png": "[encoded data removed]",
      "text/plain": [
       "<Figure size 360x360 with 1 Axes>"
      ]
     },
     "metadata": {
      "needs_background": "light"
     },
     "output_type": "display_data"
    }
   ],
   "source": [
    "sns.displot(new_df['q1_num_words'])\n",
    "print('minimum words', new_df['q1_num_words'].min())\n",
    "print('maximum words', new_df['q1_num_words'].max())\n",
    "print('average num of words', int(new_df['q1_num_words'].mean()))"
   ]
  },
  {
   "cell_type": "code",
   "execution_count": 35,
   "id": "c36a43ab",
   "metadata": {},
   "outputs": [
    {
     "name": "stdout",
     "output_type": "stream",
     "text": [
      "minimum words 2\n",
      "maximum words 237\n",
      "average num of words 11\n"
     ]
    },
    {
     "data": {
      "image/png": "[encoded data removed]",
      "text/plain": [
       "<Figure size 360x360 with 1 Axes>"
      ]
     },
     "metadata": {
      "needs_background": "light"
     },
     "output_type": "display_data"
    }
   ],
   "source": [
    "sns.displot(new_df['q2_num_words'])\n",
    "print('minimum words', new_df['q2_num_words'].min())\n",
    "print('maximum words', new_df['q2_num_words'].max())\n",
    "print('average num of words', int(new_df['q2_num_words'].mean()))"
   ]
  },
  {
   "cell_type": "code",
   "execution_count": 38,
   "id": "c763ce06",
   "metadata": {},
   "outputs": [
    {
     "data": {
      "image/png": "[encoded data removed]",
      "text/plain": [
       "<Figure size 1008x432 with 1 Axes>"
      ]
     },
     "metadata": {
      "needs_background": "light"
     },
     "output_type": "display_data"
    }
   ],
   "source": [
    "# common words\n",
    "\n",
    "plt.figure(figsize = (14, 6))\n",
    "sns.distplot(new_df[new_df['is_duplicate'] == 0]['word_common'], label = 'not duplicate')\n",
    "sns.distplot(new_df[new_df['is_duplicate'] == 1]['word_common'], label = 'duplicate')\n",
    "plt.legend()\n",
    "plt.show()"
   ]
  },
  {
   "cell_type": "code",
   "execution_count": 39,
   "id": "816ec9e7",
   "metadata": {},
   "outputs": [
    {
     "data": {
      "image/png": "[encoded data removed]",
      "text/plain": [
       "<Figure size 1008x432 with 1 Axes>"
      ]
     },
     "metadata": {
      "needs_background": "light"
     },
     "output_type": "display_data"
    }
   ],
   "source": [
    "# total words\n",
    "\n",
    "plt.figure(figsize = (14, 6))\n",
    "sns.distplot(new_df[new_df['is_duplicate'] == 0]['word_total'], label = 'not duplicate')\n",
    "sns.distplot(new_df[new_df['is_duplicate'] == 1]['word_total'], label = 'duplicate')\n",
    "plt.legend()\n",
    "plt.show()"
   ]
  },
  {
   "cell_type": "code",
   "execution_count": 40,
   "id": "704e1a2f",
   "metadata": {},
   "outputs": [
    {
     "data": {
      "image/png": "[encoded data removed]",
      "text/plain": [
       "<Figure size 1008x432 with 1 Axes>"
      ]
     },
     "metadata": {
      "needs_background": "light"
     },
     "output_type": "display_data"
    }
   ],
   "source": [
    "# word share\n",
    "\n",
    "plt.figure(figsize = (14, 6))\n",
    "sns.distplot(new_df[new_df['is_duplicate'] == 0]['word_share'], label = 'not duplicate')\n",
    "sns.distplot(new_df[new_df['is_duplicate'] == 1]['word_share'], label = 'duplicate')\n",
    "plt.legend()\n",
    "plt.show()"
   ]
  },
  {
   "cell_type": "code",
   "execution_count": 41,
   "id": "9418b7f9",
   "metadata": {},
   "outputs": [
    {
     "data": {
      "text/html": [
       "<div>\n",
       "<style scoped>\n",
       "    .dataframe tbody tr th:only-of-type {\n",
       "        vertical-align: middle;\n",
       "    }\n",
       "\n",
       "    .dataframe tbody tr th {\n",
       "        vertical-align: top;\n",
       "    }\n",
       "\n",
       "    .dataframe thead th {\n",
       "        text-align: right;\n",
       "    }\n",
       "</style>\n",
       "<table border=\"1\" class=\"dataframe\">\n",
       "  <thead>\n",
       "    <tr style=\"text-align: right;\">\n",
       "      <th></th>\n",
       "      <th>question1</th>\n",
       "      <th>question2</th>\n",
       "    </tr>\n",
       "  </thead>\n",
       "  <tbody>\n",
       "    <tr>\n",
       "      <th>392384</th>\n",
       "      <td>Will UX writing be replaced by AI?</td>\n",
       "      <td>What do I need to know to write my own rudimen...</td>\n",
       "    </tr>\n",
       "    <tr>\n",
       "      <th>276940</th>\n",
       "      <td>What are useful strength training + weight lif...</td>\n",
       "      <td>What kind of strength training exercises do F1...</td>\n",
       "    </tr>\n",
       "    <tr>\n",
       "      <th>240720</th>\n",
       "      <td>When do you think Donald Trump will be assassi...</td>\n",
       "      <td>Do you think Donald Trump will be assassinated?</td>\n",
       "    </tr>\n",
       "    <tr>\n",
       "      <th>283747</th>\n",
       "      <td>Is Mexico in danger of becoming a failed state...</td>\n",
       "      <td>Why is Mexico City dangerous?</td>\n",
       "    </tr>\n",
       "    <tr>\n",
       "      <th>129602</th>\n",
       "      <td>Where can you learn ethical hacking?</td>\n",
       "      <td>How do I learn ethical hacking and what is pen...</td>\n",
       "    </tr>\n",
       "  </tbody>\n",
       "</table>\n",
       "</div>"
      ],
      "text/plain": [
       "                                                question1  \\\n",
       "392384                 Will UX writing be replaced by AI?   \n",
       "276940  What are useful strength training + weight lif...   \n",
       "240720  When do you think Donald Trump will be assassi...   \n",
       "283747  Is Mexico in danger of becoming a failed state...   \n",
       "129602               Where can you learn ethical hacking?   \n",
       "\n",
       "                                                question2  \n",
       "392384  What do I need to know to write my own rudimen...  \n",
       "276940  What kind of strength training exercises do F1...  \n",
       "240720    Do you think Donald Trump will be assassinated?  \n",
       "283747                      Why is Mexico City dangerous?  \n",
       "129602  How do I learn ethical hacking and what is pen...  "
      ]
     },
     "execution_count": 41,
     "metadata": {},
     "output_type": "execute_result"
    }
   ],
   "source": [
    "ques_df = new_df[['question1','question2']]\n",
    "ques_df.head()"
   ]
  },
  {
   "cell_type": "code",
   "execution_count": 42,
   "id": "4cef1fcf",
   "metadata": {},
   "outputs": [
    {
     "name": "stdout",
     "output_type": "stream",
     "text": [
      "(30000, 8)\n"
     ]
    },
    {
     "data": {
      "text/html": [
       "<div>\n",
       "<style scoped>\n",
       "    .dataframe tbody tr th:only-of-type {\n",
       "        vertical-align: middle;\n",
       "    }\n",
       "\n",
       "    .dataframe tbody tr th {\n",
       "        vertical-align: top;\n",
       "    }\n",
       "\n",
       "    .dataframe thead th {\n",
       "        text-align: right;\n",
       "    }\n",
       "</style>\n",
       "<table border=\"1\" class=\"dataframe\">\n",
       "  <thead>\n",
       "    <tr style=\"text-align: right;\">\n",
       "      <th></th>\n",
       "      <th>is_duplicate</th>\n",
       "      <th>q1_len</th>\n",
       "      <th>q2_len</th>\n",
       "      <th>q1_num_words</th>\n",
       "      <th>q2_num_words</th>\n",
       "      <th>word_common</th>\n",
       "      <th>word_total</th>\n",
       "      <th>word_share</th>\n",
       "    </tr>\n",
       "  </thead>\n",
       "  <tbody>\n",
       "    <tr>\n",
       "      <th>392384</th>\n",
       "      <td>0</td>\n",
       "      <td>34</td>\n",
       "      <td>54</td>\n",
       "      <td>7</td>\n",
       "      <td>12</td>\n",
       "      <td>1</td>\n",
       "      <td>18</td>\n",
       "      <td>0.06</td>\n",
       "    </tr>\n",
       "    <tr>\n",
       "      <th>276940</th>\n",
       "      <td>0</td>\n",
       "      <td>118</td>\n",
       "      <td>58</td>\n",
       "      <td>18</td>\n",
       "      <td>10</td>\n",
       "      <td>4</td>\n",
       "      <td>27</td>\n",
       "      <td>0.15</td>\n",
       "    </tr>\n",
       "    <tr>\n",
       "      <th>240720</th>\n",
       "      <td>0</td>\n",
       "      <td>52</td>\n",
       "      <td>47</td>\n",
       "      <td>9</td>\n",
       "      <td>8</td>\n",
       "      <td>8</td>\n",
       "      <td>17</td>\n",
       "      <td>0.47</td>\n",
       "    </tr>\n",
       "    <tr>\n",
       "      <th>283747</th>\n",
       "      <td>0</td>\n",
       "      <td>83</td>\n",
       "      <td>29</td>\n",
       "      <td>17</td>\n",
       "      <td>5</td>\n",
       "      <td>2</td>\n",
       "      <td>21</td>\n",
       "      <td>0.10</td>\n",
       "    </tr>\n",
       "    <tr>\n",
       "      <th>129602</th>\n",
       "      <td>1</td>\n",
       "      <td>36</td>\n",
       "      <td>54</td>\n",
       "      <td>6</td>\n",
       "      <td>10</td>\n",
       "      <td>2</td>\n",
       "      <td>16</td>\n",
       "      <td>0.12</td>\n",
       "    </tr>\n",
       "  </tbody>\n",
       "</table>\n",
       "</div>"
      ],
      "text/plain": [
       "        is_duplicate  q1_len  q2_len  q1_num_words  q2_num_words  word_common  \\\n",
       "392384             0      34      54             7            12            1   \n",
       "276940             0     118      58            18            10            4   \n",
       "240720             0      52      47             9             8            8   \n",
       "283747             0      83      29            17             5            2   \n",
       "129602             1      36      54             6            10            2   \n",
       "\n",
       "        word_total  word_share  \n",
       "392384          18        0.06  \n",
       "276940          27        0.15  \n",
       "240720          17        0.47  \n",
       "283747          21        0.10  \n",
       "129602          16        0.12  "
      ]
     },
     "execution_count": 42,
     "metadata": {},
     "output_type": "execute_result"
    }
   ],
   "source": [
    "final_df = new_df.drop(columns = ['id', 'qid1', 'qid2', 'question1', 'question2'])\n",
    "print(final_df.shape)\n",
    "final_df.head()"
   ]
  },
  {
   "cell_type": "code",
   "execution_count": 43,
   "id": "82aa7407",
   "metadata": {},
   "outputs": [],
   "source": [
    "# merge texts\n",
    "\n",
    "questions = list(ques_df['question1']) + list(ques_df['question2'])"
   ]
  },
  {
   "cell_type": "code",
   "execution_count": 44,
   "id": "3a84a2c2",
   "metadata": {},
   "outputs": [],
   "source": [
    "from sklearn.feature_extraction.text import CountVectorizer\n",
    "\n",
    "cv = CountVectorizer(max_features=3000)"
   ]
  },
  {
   "cell_type": "code",
   "execution_count": 45,
   "id": "3dec22cb",
   "metadata": {},
   "outputs": [],
   "source": [
    "q1_arr, q2_arr = np.vsplit(cv.fit_transform(questions).toarray(),2)"
   ]
  },
  {
   "cell_type": "code",
   "execution_count": 46,
   "id": "a1a7d54e",
   "metadata": {},
   "outputs": [
    {
     "data": {
      "text/plain": [
       "(30000, 6000)"
      ]
     },
     "execution_count": 46,
     "metadata": {},
     "output_type": "execute_result"
    }
   ],
   "source": [
    "temp_df1 = pd.DataFrame(q1_arr, index = ques_df.index)\n",
    "temp_df2 = pd.DataFrame(q2_arr, index = ques_df.index)\n",
    "temp_df = pd.concat([temp_df1, temp_df2], axis = 1)\n",
    "temp_df.shape"
   ]
  },
  {
   "cell_type": "code",
   "execution_count": 47,
   "id": "71f39de4",
   "metadata": {},
   "outputs": [
    {
     "name": "stdout",
     "output_type": "stream",
     "text": [
      "(30000, 6008)\n"
     ]
    },
    {
     "data": {
      "text/html": [
       "<div>\n",
       "<style scoped>\n",
       "    .dataframe tbody tr th:only-of-type {\n",
       "        vertical-align: middle;\n",
       "    }\n",
       "\n",
       "    .dataframe tbody tr th {\n",
       "        vertical-align: top;\n",
       "    }\n",
       "\n",
       "    .dataframe thead th {\n",
       "        text-align: right;\n",
       "    }\n",
       "</style>\n",
       "<table border=\"1\" class=\"dataframe\">\n",
       "  <thead>\n",
       "    <tr style=\"text-align: right;\">\n",
       "      <th></th>\n",
       "      <th>is_duplicate</th>\n",
       "      <th>q1_len</th>\n",
       "      <th>q2_len</th>\n",
       "      <th>q1_num_words</th>\n",
       "      <th>q2_num_words</th>\n",
       "      <th>word_common</th>\n",
       "      <th>word_total</th>\n",
       "      <th>word_share</th>\n",
       "      <th>0</th>\n",
       "      <th>1</th>\n",
       "      <th>...</th>\n",
       "      <th>2990</th>\n",
       "      <th>2991</th>\n",
       "      <th>2992</th>\n",
       "      <th>2993</th>\n",
       "      <th>2994</th>\n",
       "      <th>2995</th>\n",
       "      <th>2996</th>\n",
       "      <th>2997</th>\n",
       "      <th>2998</th>\n",
       "      <th>2999</th>\n",
       "    </tr>\n",
       "  </thead>\n",
       "  <tbody>\n",
       "    <tr>\n",
       "      <th>392384</th>\n",
       "      <td>0</td>\n",
       "      <td>34</td>\n",
       "      <td>54</td>\n",
       "      <td>7</td>\n",
       "      <td>12</td>\n",
       "      <td>1</td>\n",
       "      <td>18</td>\n",
       "      <td>0.06</td>\n",
       "      <td>0</td>\n",
       "      <td>0</td>\n",
       "      <td>...</td>\n",
       "      <td>0</td>\n",
       "      <td>0</td>\n",
       "      <td>0</td>\n",
       "      <td>0</td>\n",
       "      <td>0</td>\n",
       "      <td>0</td>\n",
       "      <td>0</td>\n",
       "      <td>0</td>\n",
       "      <td>0</td>\n",
       "      <td>0</td>\n",
       "    </tr>\n",
       "    <tr>\n",
       "      <th>276940</th>\n",
       "      <td>0</td>\n",
       "      <td>118</td>\n",
       "      <td>58</td>\n",
       "      <td>18</td>\n",
       "      <td>10</td>\n",
       "      <td>4</td>\n",
       "      <td>27</td>\n",
       "      <td>0.15</td>\n",
       "      <td>0</td>\n",
       "      <td>0</td>\n",
       "      <td>...</td>\n",
       "      <td>0</td>\n",
       "      <td>0</td>\n",
       "      <td>0</td>\n",
       "      <td>0</td>\n",
       "      <td>0</td>\n",
       "      <td>0</td>\n",
       "      <td>0</td>\n",
       "      <td>0</td>\n",
       "      <td>0</td>\n",
       "      <td>0</td>\n",
       "    </tr>\n",
       "    <tr>\n",
       "      <th>240720</th>\n",
       "      <td>0</td>\n",
       "      <td>52</td>\n",
       "      <td>47</td>\n",
       "      <td>9</td>\n",
       "      <td>8</td>\n",
       "      <td>8</td>\n",
       "      <td>17</td>\n",
       "      <td>0.47</td>\n",
       "      <td>0</td>\n",
       "      <td>0</td>\n",
       "      <td>...</td>\n",
       "      <td>0</td>\n",
       "      <td>0</td>\n",
       "      <td>1</td>\n",
       "      <td>0</td>\n",
       "      <td>0</td>\n",
       "      <td>0</td>\n",
       "      <td>0</td>\n",
       "      <td>0</td>\n",
       "      <td>0</td>\n",
       "      <td>0</td>\n",
       "    </tr>\n",
       "    <tr>\n",
       "      <th>283747</th>\n",
       "      <td>0</td>\n",
       "      <td>83</td>\n",
       "      <td>29</td>\n",
       "      <td>17</td>\n",
       "      <td>5</td>\n",
       "      <td>2</td>\n",
       "      <td>21</td>\n",
       "      <td>0.10</td>\n",
       "      <td>0</td>\n",
       "      <td>0</td>\n",
       "      <td>...</td>\n",
       "      <td>0</td>\n",
       "      <td>0</td>\n",
       "      <td>0</td>\n",
       "      <td>0</td>\n",
       "      <td>0</td>\n",
       "      <td>0</td>\n",
       "      <td>0</td>\n",
       "      <td>0</td>\n",
       "      <td>0</td>\n",
       "      <td>0</td>\n",
       "    </tr>\n",
       "    <tr>\n",
       "      <th>129602</th>\n",
       "      <td>1</td>\n",
       "      <td>36</td>\n",
       "      <td>54</td>\n",
       "      <td>6</td>\n",
       "      <td>10</td>\n",
       "      <td>2</td>\n",
       "      <td>16</td>\n",
       "      <td>0.12</td>\n",
       "      <td>0</td>\n",
       "      <td>0</td>\n",
       "      <td>...</td>\n",
       "      <td>0</td>\n",
       "      <td>0</td>\n",
       "      <td>0</td>\n",
       "      <td>0</td>\n",
       "      <td>0</td>\n",
       "      <td>0</td>\n",
       "      <td>0</td>\n",
       "      <td>0</td>\n",
       "      <td>0</td>\n",
       "      <td>0</td>\n",
       "    </tr>\n",
       "  </tbody>\n",
       "</table>\n",
       "<p>5 rows × 6008 columns</p>\n",
       "</div>"
      ],
      "text/plain": [
       "        is_duplicate  q1_len  q2_len  q1_num_words  q2_num_words  word_common  \\\n",
       "392384             0      34      54             7            12            1   \n",
       "276940             0     118      58            18            10            4   \n",
       "240720             0      52      47             9             8            8   \n",
       "283747             0      83      29            17             5            2   \n",
       "129602             1      36      54             6            10            2   \n",
       "\n",
       "        word_total  word_share  0  1  ...  2990  2991  2992  2993  2994  2995  \\\n",
       "392384          18        0.06  0  0  ...     0     0     0     0     0     0   \n",
       "276940          27        0.15  0  0  ...     0     0     0     0     0     0   \n",
       "240720          17        0.47  0  0  ...     0     0     1     0     0     0   \n",
       "283747          21        0.10  0  0  ...     0     0     0     0     0     0   \n",
       "129602          16        0.12  0  0  ...     0     0     0     0     0     0   \n",
       "\n",
       "        2996  2997  2998  2999  \n",
       "392384     0     0     0     0  \n",
       "276940     0     0     0     0  \n",
       "240720     0     0     0     0  \n",
       "283747     0     0     0     0  \n",
       "129602     0     0     0     0  \n",
       "\n",
       "[5 rows x 6008 columns]"
      ]
     },
     "execution_count": 47,
     "metadata": {},
     "output_type": "execute_result"
    }
   ],
   "source": [
    "final_df = pd.concat([final_df, temp_df], axis = 1)\n",
    "print(final_df.shape)\n",
    "final_df.head()"
   ]
  },
  {
   "cell_type": "code",
   "execution_count": 48,
   "id": "79dadd8c",
   "metadata": {},
   "outputs": [],
   "source": [
    "X = final_df.iloc[:, 1:].values\n",
    "Y = final_df.iloc[:, 0].values"
   ]
  },
  {
   "cell_type": "code",
   "execution_count": 49,
   "id": "0be05fc6",
   "metadata": {},
   "outputs": [],
   "source": [
    "from sklearn.model_selection import train_test_split\n",
    "\n",
    "X_train, X_test, Y_train, Y_test = train_test_split(X, Y, test_size = 0.2, random_state = 1)"
   ]
  },
  {
   "cell_type": "code",
   "execution_count": 50,
   "id": "ab8581f1",
   "metadata": {},
   "outputs": [
    {
     "data": {
      "text/plain": [
       "0.7696666666666667"
      ]
     },
     "execution_count": 50,
     "metadata": {},
     "output_type": "execute_result"
    }
   ],
   "source": [
    "from sklearn.ensemble import RandomForestClassifier\n",
    "from sklearn.metrics import accuracy_score\n",
    "\n",
    "rf = RandomForestClassifier()\n",
    "\n",
    "rf.fit(X_train, Y_train)\n",
    "Y_pred = rf.predict(X_test)\n",
    "\n",
    "accuracy_score(Y_test, Y_pred)"
   ]
  },
  {
   "cell_type": "code",
   "execution_count": 51,
   "id": "75c07ec5",
   "metadata": {},
   "outputs": [
    {
     "data": {
      "text/plain": [
       "0.7675"
      ]
     },
     "execution_count": 51,
     "metadata": {},
     "output_type": "execute_result"
    }
   ],
   "source": [
    "from xgboost import XGBClassifier\n",
    "\n",
    "xgb = XGBClassifier()\n",
    "\n",
    "xgb.fit(X_train, Y_train)\n",
    "Y_pred = xgb.predict(X_test)\n",
    "\n",
    "accuracy_score(Y_test, Y_pred)"
   ]
  },
  {
   "cell_type": "code",
   "execution_count": null,
   "id": "06fed7e9",
   "metadata": {},
   "outputs": [],
   "source": []
  }
 ],
 "metadata": {
  "kernelspec": {
   "display_name": "Python 3 (ipykernel)",
   "language": "python",
   "name": "python3"
  },
  "language_info": {
   "codemirror_mode": {
    "name": "ipython",
    "version": 3
   },
   "file_extension": ".py",
   "mimetype": "text/x-python",
   "name": "python",
   "nbconvert_exporter": "python",
   "pygments_lexer": "ipython3",
   "version": "3.10.2"
  }
 },
 "nbformat": 4,
 "nbformat_minor": 5
}
